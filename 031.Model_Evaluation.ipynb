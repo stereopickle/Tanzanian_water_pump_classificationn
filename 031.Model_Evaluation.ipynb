{
 "cells": [
  {
   "cell_type": "markdown",
   "metadata": {},
   "source": [
    "# Model Evaluation\n",
    "\n",
    "In this notebook, we will test multiple model and evaluate to choose the best one."
   ]
  },
  {
   "cell_type": "code",
   "execution_count": 1,
   "metadata": {
    "scrolled": true
   },
   "outputs": [],
   "source": [
    "import pandas as pd\n",
    "import numpy as np\n",
    "import matplotlib.pyplot as plt\n",
    "%matplotlib inline\n",
    "\n",
    "import pickle\n",
    "\n",
    "from sklearn.tree import DecisionTreeClassifier\n",
    "from sklearn.model_selection import train_test_split\n",
    "\n",
    "pd.set_option('precision', 4)\n",
    "pd.options.display.max_seq_items = None\n",
    "pd.options.display.max_columns = 50"
   ]
  },
  {
   "cell_type": "code",
   "execution_count": 2,
   "metadata": {},
   "outputs": [],
   "source": [
    "# Importing data\n",
    "X = pd.read_pickle('PKL/X_train.pkl')\n",
    "y = pd.read_pickle('PKL/Y_train.pkl')"
   ]
  },
  {
   "cell_type": "markdown",
   "metadata": {},
   "source": [
    "## Train/Test Split\n",
    "We will split the train data once more. It's because this is a competition dataset and we actually don't have the 'test' score result. So we will use the test set we created from the initial training set as a holdout set to actually see our performance of the final model. The final test set, which we don't have the labels for, will be used to make a prediction in the final testing notebook. "
   ]
  },
  {
   "cell_type": "code",
   "execution_count": 3,
   "metadata": {},
   "outputs": [],
   "source": [
    "X_train, X_test, y_train, y_test = train_test_split(X, y, random_state = 13, test_size = 0.2)"
   ]
  },
  {
   "cell_type": "markdown",
   "metadata": {},
   "source": [
    "## Preprocessing\n",
    "We will be utilizing mostly KNN and tree-based algorithms. We will first turn categorical features to binary dummies."
   ]
  },
  {
   "cell_type": "code",
   "execution_count": 4,
   "metadata": {},
   "outputs": [],
   "source": [
    "# Turning all categorical features to dummies \n",
    "X_train = pd.get_dummies(X_train)\n",
    "X_test = pd.get_dummies(X_test)"
   ]
  },
  {
   "cell_type": "code",
   "execution_count": 5,
   "metadata": {},
   "outputs": [
    {
     "name": "stdout",
     "output_type": "stream",
     "text": [
      "Good to go\n"
     ]
    }
   ],
   "source": [
    "# Check if training and testing sets have the same features\n",
    "if X_train.shape[1] != X_test.shape[1]:\n",
    "    print('only in train:', [x for x in X_train.columns if x not in X_test.columns])\n",
    "    print('only in test:',[x for x in X_test.columns if x not in X_train.columns])\n",
    "else: \n",
    "    print ('Good to go')"
   ]
  },
  {
   "cell_type": "code",
   "execution_count": 6,
   "metadata": {},
   "outputs": [],
   "source": [
    "# If they are not the same, add the column with 0s and fix the order\n",
    "# X_test[colname] = 0\n",
    "# X_test = X_test[X_train.columns]"
   ]
  },
  {
   "cell_type": "markdown",
   "metadata": {},
   "source": [
    "## Class Imbalance Issue\n",
    "Our dataset has high class imbalance issue. We will mostly deal with this by setting the class weight within each model, but in some cases where imbalance weight is not adequately dealt with by algorithm we test with resampled set using SMOTE."
   ]
  },
  {
   "cell_type": "code",
   "execution_count": 7,
   "metadata": {},
   "outputs": [],
   "source": [
    "from imblearn.over_sampling import SMOTE"
   ]
  },
  {
   "cell_type": "code",
   "execution_count": 8,
   "metadata": {
    "pycharm": {
     "is_executing": true
    }
   },
   "outputs": [],
   "source": [
    "smote = SMOTE()\n",
    "X_train, y_train = smote.fit_sample(X_train, y_train)"
   ]
  },
  {
   "cell_type": "markdown",
   "metadata": {},
   "source": [
    "## Evaluation Metrics\n",
    "Our target is multi-class with imbalance issue. To focus on the imbalance of minority classes, we will also look at the macro f1 score to capture the predictive performance for overall classes. It calculates the f1 score for each class and find the average so naturally take class imbalance into account."
   ]
  },
  {
   "cell_type": "code",
   "execution_count": 3,
   "metadata": {},
   "outputs": [],
   "source": [
    "from sklearn.metrics import cohen_kappa_score, f1_score, accuracy_score, plot_confusion_matrix, classification_report"
   ]
  },
  {
   "cell_type": "markdown",
   "metadata": {},
   "source": [
    "## Feature Selection\n",
    "To optimize the process, I will subset features based on a few random decision trees."
   ]
  },
  {
   "cell_type": "code",
   "execution_count": 10,
   "metadata": {
    "pycharm": {
     "name": "#%%\n"
    }
   },
   "outputs": [
    {
     "data": {
      "text/plain": [
       "440"
      ]
     },
     "execution_count": 10,
     "metadata": {},
     "output_type": "execute_result"
    }
   ],
   "source": [
    "original_feats = X_train.columns\n",
    "len(original_feats)"
   ]
  },
  {
   "cell_type": "code",
   "execution_count": 4,
   "metadata": {},
   "outputs": [],
   "source": [
    "from sklearn.ensemble import ExtraTreesClassifier\n",
    "from sklearn.feature_selection import SelectFromModel"
   ]
  },
  {
   "cell_type": "code",
   "execution_count": 12,
   "metadata": {
    "pycharm": {
     "name": "#%%\n"
    }
   },
   "outputs": [],
   "source": [
    "etc = ExtraTreesClassifier(n_estimators=100, n_jobs=-1, class_weight='balanced', random_state = 23)\n",
    "etc = etc.fit(X_train, y_train)\n",
    "model = SelectFromModel(etc, prefit=True, threshold = 1e-4)"
   ]
  },
  {
   "cell_type": "code",
   "execution_count": 13,
   "metadata": {},
   "outputs": [],
   "source": [
    "X_train_new = model.transform(X_train)\n",
    "new_feats = original_feats[model.get_support()]"
   ]
  },
  {
   "cell_type": "code",
   "execution_count": 14,
   "metadata": {},
   "outputs": [
    {
     "data": {
      "text/plain": [
       "395"
      ]
     },
     "execution_count": 14,
     "metadata": {},
     "output_type": "execute_result"
    }
   ],
   "source": [
    "len(new_feats)"
   ]
  },
  {
   "cell_type": "code",
   "execution_count": 15,
   "metadata": {},
   "outputs": [],
   "source": [
    "X_test_new = model.transform(X_test)"
   ]
  },
  {
   "cell_type": "code",
   "execution_count": 16,
   "metadata": {},
   "outputs": [],
   "source": [
    "X_train = X_train_new\n",
    "X_test = X_test_new"
   ]
  },
  {
   "cell_type": "markdown",
   "metadata": {},
   "source": [
    "### Standardization\n",
    "Since we will be testing kNN, all feature values need to be standardized."
   ]
  },
  {
   "cell_type": "code",
   "execution_count": 5,
   "metadata": {},
   "outputs": [],
   "source": [
    "from sklearn.preprocessing import StandardScaler"
   ]
  },
  {
   "cell_type": "code",
   "execution_count": 18,
   "metadata": {},
   "outputs": [],
   "source": [
    "scale = StandardScaler()\n",
    "X_train = scale.fit_transform(X_train)\n",
    "X_test= scale.transform(X_test)"
   ]
  },
  {
   "cell_type": "code",
   "execution_count": 19,
   "metadata": {},
   "outputs": [],
   "source": [
    "# Save out train/validation \n",
    "mod = open('PKL/new_feats.pkl', 'wb')\n",
    "pickle.dump(new_feats, mod)\n",
    "mod.close()\n",
    "\n",
    "mod = open('PKL/TRAIN_X_train.pkl', 'wb')\n",
    "pickle.dump(X_train, mod)\n",
    "mod.close()\n",
    "\n",
    "mod = open('PKL/TRAIN_X_test.pkl', 'wb')\n",
    "pickle.dump(X_test, mod)\n",
    "mod.close()\n",
    "\n",
    "mod = open('PKL/TRAIN_Y_train.pkl', 'wb')\n",
    "pickle.dump(y_train, mod)\n",
    "mod.close()\n",
    "\n",
    "mod = open('PKL/TRAIN_Y_test.pkl', 'wb')\n",
    "pickle.dump(y_test, mod)\n",
    "mod.close()"
   ]
  },
  {
   "cell_type": "code",
   "execution_count": 6,
   "metadata": {},
   "outputs": [],
   "source": [
    "# reload\n",
    "new_feats = pickle.load(open('PKL/new_feats.pkl', 'rb'))\n",
    "\n",
    "X_train = pickle.load(open('PKL/TRAIN_X_train.pkl', 'rb'))\n",
    "X_test = pickle.load(open('PKL/TRAIN_X_test.pkl', 'rb'))\n",
    "y_train = pickle.load(open('PKL/TRAIN_Y_train.pkl', 'rb'))\n",
    "y_test = pickle.load(open('PKL/TRAIN_Y_test.pkl', 'rb'))"
   ]
  },
  {
   "cell_type": "markdown",
   "metadata": {},
   "source": [
    "## Dummy Classifier\n",
    "We'll first create a dummy classifier as a baseline score."
   ]
  },
  {
   "cell_type": "code",
   "execution_count": 7,
   "metadata": {},
   "outputs": [],
   "source": [
    "scorer = {}"
   ]
  },
  {
   "cell_type": "code",
   "execution_count": 8,
   "metadata": {},
   "outputs": [],
   "source": [
    "from sklearn.dummy import DummyClassifier"
   ]
  },
  {
   "cell_type": "code",
   "execution_count": 9,
   "metadata": {
    "pycharm": {
     "name": "#%%\n"
    }
   },
   "outputs": [
    {
     "name": "stdout",
     "output_type": "stream",
     "text": [
      "Accuracy:  0.332 Test F1 score:  0.295 / Cohen Kappa:  0.001\n"
     ]
    }
   ],
   "source": [
    "dummyc = DummyClassifier(strategy = 'stratified') # using the default stratified strategy\n",
    "dummyc.fit(X_train, y_train)\n",
    "y_pred = dummyc.predict(X_test)\n",
    "\n",
    "accuracy = round(accuracy_score(y_test, y_pred), 3)\n",
    "f1_test = round(f1_score(y_test, y_pred, average = 'macro'), 3)\n",
    "ck_test = round(cohen_kappa_score(y_test, y_pred), 3)\n",
    "print('Accuracy: ', accuracy, 'Test F1 score: ', f1_test, '/ Cohen Kappa: ', ck_test)\n",
    "scorer['dummy'] = (accuracy, f1_test, ck_test)"
   ]
  },
  {
   "cell_type": "code",
   "execution_count": 10,
   "metadata": {},
   "outputs": [
    {
     "name": "stdout",
     "output_type": "stream",
     "text": [
      "                         precision    recall  f1-score   support\n",
      "\n",
      "             functional       0.54      0.33      0.41      4822\n",
      "functional needs repair       0.07      0.30      0.11       678\n",
      "         non functional       0.39      0.34      0.36      3410\n",
      "\n",
      "               accuracy                           0.33      8910\n",
      "              macro avg       0.33      0.32      0.30      8910\n",
      "           weighted avg       0.45      0.33      0.37      8910\n",
      "\n"
     ]
    },
    {
     "data": {
      "image/png": "[encoded data removed]",
      "text/plain": [
       "<Figure size 432x288 with 2 Axes>"
      ]
     },
     "metadata": {
      "needs_background": "light"
     },
     "output_type": "display_data"
    }
   ],
   "source": [
    "plot_confusion_matrix(dummyc, X_test, y_test, xticks_rotation = 'vertical', cmap = plt.cm.Blues)\n",
    "print(classification_report(y_test, y_pred))"
   ]
  },
  {
   "cell_type": "markdown",
   "metadata": {},
   "source": [
    "Our stratified dummy classifier shows the weighted F1 score around .45 and less balanced accuracy. Dummy classifier is consistently wrong on all cases but recall for minority classes are especially bad.\n"
   ]
  },
  {
   "cell_type": "markdown",
   "metadata": {},
   "source": [
    "## kNearestNeighbors\n",
    "Now we will run K-Nearest Neighbors using GridSearchCV. "
   ]
  },
  {
   "cell_type": "markdown",
   "metadata": {},
   "source": [
    "### Scoring Function\n",
    "Function to return weighted F1 and balanced accuracy score"
   ]
  },
  {
   "cell_type": "code",
   "execution_count": 11,
   "metadata": {},
   "outputs": [],
   "source": [
    "def scoring(y_test, y_pred, text, scorer = scorer):\n",
    "    accuracy = round(accuracy_score(y_test, y_pred), 3)\n",
    "    f1_test = round(f1_score(y_test, y_pred, average = 'macro'), 3)\n",
    "    ck_test = round(cohen_kappa_score(y_test, y_pred), 3)\n",
    "    print('Accuracy: ', accuracy, 'Test F1 score: ', f1_test, '/ Cohen Kappa: ', ck_test)\n",
    "    scorer[text] = (accuracy, f1_test, ck_test)\n",
    "    return scorer"
   ]
  },
  {
   "cell_type": "markdown",
   "metadata": {},
   "source": [
    "### kNN with GridSearchCV"
   ]
  },
  {
   "cell_type": "markdown",
   "metadata": {},
   "source": [
    "Finding the optimal value for K using GridSearchCV."
   ]
  },
  {
   "cell_type": "code",
   "execution_count": 12,
   "metadata": {},
   "outputs": [],
   "source": [
    "from sklearn.neighbors import KNeighborsClassifier\n",
    "from sklearn.model_selection import GridSearchCV"
   ]
  },
  {
   "cell_type": "code",
   "execution_count": 102,
   "metadata": {
    "scrolled": true
   },
   "outputs": [
    {
     "name": "stdout",
     "output_type": "stream",
     "text": [
      "Fitting 5 folds for each of 8 candidates, totalling 40 fits\n"
     ]
    },
    {
     "name": "stderr",
     "output_type": "stream",
     "text": [
      "[Parallel(n_jobs=-1)]: Using backend LokyBackend with 8 concurrent workers.\n",
      "[Parallel(n_jobs=-1)]: Done  40 out of  40 | elapsed: 26.2min finished\n"
     ]
    },
    {
     "name": "stdout",
     "output_type": "stream",
     "text": [
      "{'n_neighbors': 3} :  0.8045265348595214\n"
     ]
    }
   ],
   "source": [
    "params = {\n",
    "    'n_neighbors': range(1, 16, 2), # setting K\n",
    "}\n",
    "\n",
    "knc = KNeighborsClassifier(weights = 'distance') \n",
    "knc_g = GridSearchCV(knc, params, cv = 5, scoring = 'accuracy', verbose = 1, n_jobs = -1)\n",
    "knc_g.fit(X_train, y_train)\n",
    "print(knc_g.best_params_, ': ', knc_g.best_score_)"
   ]
  },
  {
   "cell_type": "code",
   "execution_count": 103,
   "metadata": {},
   "outputs": [
    {
     "name": "stdout",
     "output_type": "stream",
     "text": [
      "Accuracy:  0.745 Test F1 score:  0.633 / Cohen Kappa:  0.541\n",
      "                         precision    recall  f1-score   support\n",
      "\n",
      "             functional       0.80      0.79      0.80      4822\n",
      "functional needs repair       0.35      0.36      0.35       678\n",
      "         non functional       0.75      0.75      0.75      3410\n",
      "\n",
      "               accuracy                           0.75      8910\n",
      "              macro avg       0.63      0.63      0.63      8910\n",
      "           weighted avg       0.75      0.75      0.75      8910\n",
      "\n"
     ]
    }
   ],
   "source": [
    "# KNN performance on the test set\n",
    "y_pred = knc_g.predict(X_test)\n",
    "scoring(y_test, y_pred, 'knn gridsearch')\n",
    "print(classification_report(y_test, y_pred))\n",
    "# Accuracy:  0.745 Test F1 score:  0.633 / Cohen Kappa:  0.541\n",
    "# Recall for functional needs repair: 0.36"
   ]
  },
  {
   "cell_type": "code",
   "execution_count": 104,
   "metadata": {},
   "outputs": [],
   "source": [
    "# saving the model \n",
    "mod = open('PKL/knn_gsc.pkl', 'wb')\n",
    "pickle.dump(knc_g.best_estimator_, mod)\n",
    "mod.close()"
   ]
  },
  {
   "cell_type": "code",
   "execution_count": 15,
   "metadata": {},
   "outputs": [],
   "source": [
    "# Reload the model\n",
    "#knc_g = pickle.load(open('PKL/knn_g.pkl', 'rb'))"
   ]
  },
  {
   "cell_type": "markdown",
   "metadata": {},
   "source": [
    "### kNN with Optuna\n",
    "Now we want to try different optimization method to make sure we have the best hyperparmeter for KNN. This time we'll use optuna to explore even more hyperparameters. We'll cap the time to what it took to be same as the time it took to complete GridSearch above."
   ]
  },
  {
   "cell_type": "code",
   "execution_count": 16,
   "metadata": {},
   "outputs": [],
   "source": [
    "import optuna\n",
    "from sklearn.model_selection import KFold\n",
    "from sklearn.model_selection import cross_val_score"
   ]
  },
  {
   "cell_type": "code",
   "execution_count": 27,
   "metadata": {
    "scrolled": true
   },
   "outputs": [
    {
     "name": "stderr",
     "output_type": "stream",
     "text": [
      "[I 2020-08-31 10:47:30,414] Trial 0 finished with value: 0.8161463753035033 and parameters: {'n_neighbors': 4, 'algorithm': 'ball_tree', 'p': 2}. Best is trial 0 with value: 0.8161463753035033.\n",
      "[I 2020-08-31 10:56:01,783] Trial 1 finished with value: 0.8082032604925425 and parameters: {'n_neighbors': 30, 'algorithm': 'ball_tree', 'p': 1}. Best is trial 0 with value: 0.8161463753035033.\n",
      "[I 2020-08-31 11:04:32,451] Trial 2 finished with value: 0.8183836281651058 and parameters: {'n_neighbors': 13, 'algorithm': 'ball_tree', 'p': 1}. Best is trial 2 with value: 0.8183836281651058.\n",
      "[I 2020-08-31 11:12:59,769] Trial 3 finished with value: 0.8180367672563301 and parameters: {'n_neighbors': 14, 'algorithm': 'ball_tree', 'p': 1}. Best is trial 2 with value: 0.8183836281651058.\n",
      "[I 2020-08-31 11:21:27,227] Trial 4 finished with value: 0.8090010405827263 and parameters: {'n_neighbors': 28, 'algorithm': 'ball_tree', 'p': 1}. Best is trial 2 with value: 0.8183836281651058.\n",
      "[I 2020-08-31 11:29:56,831] Trial 5 finished with value: 0.8161463753035033 and parameters: {'n_neighbors': 4, 'algorithm': 'ball_tree', 'p': 2}. Best is trial 2 with value: 0.8183836281651058.\n",
      "[I 2020-08-31 11:38:30,653] Trial 6 finished with value: 0.8082032604925425 and parameters: {'n_neighbors': 30, 'algorithm': 'ball_tree', 'p': 1}. Best is trial 2 with value: 0.8183836281651058.\n",
      "[I 2020-08-31 11:43:30,571] Trial 7 finished with value: 0.8160596600763095 and parameters: {'n_neighbors': 16, 'algorithm': 'kd_tree', 'p': 1}. Best is trial 2 with value: 0.8183836281651058.\n",
      "[I 2020-08-31 11:47:43,948] Trial 8 finished with value: 0.7990114464099897 and parameters: {'n_neighbors': 23, 'algorithm': 'kd_tree', 'p': 2}. Best is trial 2 with value: 0.8183836281651058.\n",
      "[I 2020-08-31 11:56:23,102] Trial 9 finished with value: 0.7953520638224072 and parameters: {'n_neighbors': 30, 'algorithm': 'ball_tree', 'p': 2}. Best is trial 2 with value: 0.8183836281651058.\n",
      "[I 2020-08-31 12:00:54,210] Trial 10 finished with value: 0.8207422823447796 and parameters: {'n_neighbors': 10, 'algorithm': 'kd_tree', 'p': 1}. Best is trial 10 with value: 0.8207422823447796.\n",
      "[I 2020-08-31 12:05:30,294] Trial 11 finished with value: 0.8192854665279222 and parameters: {'n_neighbors': 11, 'algorithm': 'kd_tree', 'p': 1}. Best is trial 10 with value: 0.8207422823447796.\n",
      "[I 2020-08-31 12:09:56,164] Trial 12 finished with value: 0.8207422823447796 and parameters: {'n_neighbors': 10, 'algorithm': 'kd_tree', 'p': 1}. Best is trial 10 with value: 0.8207422823447796.\n",
      "[I 2020-08-31 12:14:15,800] Trial 13 finished with value: 0.8205168227540757 and parameters: {'n_neighbors': 9, 'algorithm': 'kd_tree', 'p': 1}. Best is trial 10 with value: 0.8207422823447796.\n",
      "[I 2020-08-31 12:19:27,367] Trial 14 finished with value: 0.813666319805758 and parameters: {'n_neighbors': 19, 'algorithm': 'kd_tree', 'p': 1}. Best is trial 10 with value: 0.8207422823447796.\n",
      "[I 2020-08-31 12:23:43,718] Trial 15 finished with value: 0.8219562955254943 and parameters: {'n_neighbors': 8, 'algorithm': 'kd_tree', 'p': 1}. Best is trial 15 with value: 0.8219562955254943.\n",
      "[I 2020-08-31 12:27:53,014] Trial 16 finished with value: 0.8217134928893512 and parameters: {'n_neighbors': 7, 'algorithm': 'kd_tree', 'p': 1}. Best is trial 15 with value: 0.8219562955254943.\n",
      "[I 2020-08-31 12:30:52,972] Trial 17 finished with value: 0.8215574054804022 and parameters: {'n_neighbors': 1, 'algorithm': 'kd_tree', 'p': 1}. Best is trial 15 with value: 0.8219562955254943.\n",
      "[I 2020-08-31 12:34:53,412] Trial 18 finished with value: 0.8230489073881373 and parameters: {'n_neighbors': 6, 'algorithm': 'kd_tree', 'p': 1}. Best is trial 18 with value: 0.8230489073881373.\n",
      "[I 2020-08-31 12:38:10,701] Trial 19 finished with value: 0.8210197710718002 and parameters: {'n_neighbors': 2, 'algorithm': 'kd_tree', 'p': 1}. Best is trial 18 with value: 0.8230489073881373.\n",
      "[I 2020-08-31 12:41:32,806] Trial 20 finished with value: 0.8130072840790842 and parameters: {'n_neighbors': 6, 'algorithm': 'kd_tree', 'p': 2}. Best is trial 18 with value: 0.8230489073881373.\n",
      "[I 2020-08-31 12:45:40,864] Trial 21 finished with value: 0.8217134928893512 and parameters: {'n_neighbors': 7, 'algorithm': 'kd_tree', 'p': 1}. Best is trial 18 with value: 0.8230489073881373.\n",
      "[I 2020-08-31 12:49:43,825] Trial 22 finished with value: 0.8230489073881373 and parameters: {'n_neighbors': 6, 'algorithm': 'kd_tree', 'p': 1}. Best is trial 18 with value: 0.8230489073881373.\n",
      "[I 2020-08-31 12:53:23,215] Trial 23 finished with value: 0.824262920568852 and parameters: {'n_neighbors': 4, 'algorithm': 'kd_tree', 'p': 1}. Best is trial 23 with value: 0.824262920568852.\n",
      "[I 2020-08-31 12:56:29,759] Trial 24 finished with value: 0.8215574054804022 and parameters: {'n_neighbors': 1, 'algorithm': 'kd_tree', 'p': 1}. Best is trial 23 with value: 0.824262920568852.\n",
      "[I 2020-08-31 13:00:11,685] Trial 25 finished with value: 0.824262920568852 and parameters: {'n_neighbors': 4, 'algorithm': 'kd_tree', 'p': 1}. Best is trial 23 with value: 0.824262920568852.\n",
      "[I 2020-08-31 13:03:48,831] Trial 26 finished with value: 0.822615331252168 and parameters: {'n_neighbors': 3, 'algorithm': 'kd_tree', 'p': 1}. Best is trial 23 with value: 0.824262920568852.\n",
      "[I 2020-08-31 13:07:36,133] Trial 27 finished with value: 0.824262920568852 and parameters: {'n_neighbors': 4, 'algorithm': 'kd_tree', 'p': 1}. Best is trial 23 with value: 0.824262920568852.\n",
      "[I 2020-08-31 13:10:35,395] Trial 28 finished with value: 0.8215574054804022 and parameters: {'n_neighbors': 1, 'algorithm': 'kd_tree', 'p': 1}. Best is trial 23 with value: 0.824262920568852.\n",
      "[I 2020-08-31 13:13:43,205] Trial 29 finished with value: 0.8156434269857786 and parameters: {'n_neighbors': 3, 'algorithm': 'kd_tree', 'p': 2}. Best is trial 23 with value: 0.824262920568852.\n",
      "[I 2020-08-31 13:17:26,684] Trial 30 finished with value: 0.824262920568852 and parameters: {'n_neighbors': 4, 'algorithm': 'kd_tree', 'p': 1}. Best is trial 23 with value: 0.824262920568852.\n",
      "[I 2020-08-31 13:21:09,175] Trial 31 finished with value: 0.824262920568852 and parameters: {'n_neighbors': 4, 'algorithm': 'kd_tree', 'p': 1}. Best is trial 23 with value: 0.824262920568852.\n",
      "[I 2020-08-31 13:25:02,871] Trial 32 finished with value: 0.8228061047519943 and parameters: {'n_neighbors': 5, 'algorithm': 'kd_tree', 'p': 1}. Best is trial 23 with value: 0.824262920568852.\n",
      "[I 2020-08-31 13:29:44,340] Trial 33 finished with value: 0.8186264308012486 and parameters: {'n_neighbors': 12, 'algorithm': 'kd_tree', 'p': 1}. Best is trial 23 with value: 0.824262920568852.\n",
      "[I 2020-08-31 13:33:13,711] Trial 34 finished with value: 0.822615331252168 and parameters: {'n_neighbors': 3, 'algorithm': 'kd_tree', 'p': 1}. Best is trial 23 with value: 0.824262920568852.\n",
      "[I 2020-08-31 13:37:32,670] Trial 35 finished with value: 0.8219562955254943 and parameters: {'n_neighbors': 8, 'algorithm': 'kd_tree', 'p': 1}. Best is trial 23 with value: 0.824262920568852.\n",
      "[I 2020-08-31 13:42:32,306] Trial 36 finished with value: 0.8168400971210545 and parameters: {'n_neighbors': 15, 'algorithm': 'kd_tree', 'p': 1}. Best is trial 23 with value: 0.824262920568852.\n",
      "[I 2020-08-31 13:50:56,896] Trial 37 finished with value: 0.8228061047519943 and parameters: {'n_neighbors': 5, 'algorithm': 'ball_tree', 'p': 1}. Best is trial 23 with value: 0.824262920568852.\n",
      "[I 2020-08-31 13:53:59,583] Trial 38 finished with value: 0.8215574054804022 and parameters: {'n_neighbors': 1, 'algorithm': 'kd_tree', 'p': 1}. Best is trial 23 with value: 0.824262920568852.\n",
      "[I 2020-08-31 13:59:12,211] Trial 39 finished with value: 0.8143773846687477 and parameters: {'n_neighbors': 18, 'algorithm': 'kd_tree', 'p': 1}. Best is trial 23 with value: 0.824262920568852.\n",
      "[I 2020-08-31 14:07:42,048] Trial 40 finished with value: 0.7975893166840097 and parameters: {'n_neighbors': 24, 'algorithm': 'ball_tree', 'p': 2}. Best is trial 23 with value: 0.824262920568852.\n",
      "[I 2020-08-31 14:11:25,698] Trial 41 finished with value: 0.824262920568852 and parameters: {'n_neighbors': 4, 'algorithm': 'kd_tree', 'p': 1}. Best is trial 23 with value: 0.824262920568852.\n",
      "[I 2020-08-31 14:15:11,023] Trial 42 finished with value: 0.824262920568852 and parameters: {'n_neighbors': 4, 'algorithm': 'kd_tree', 'p': 1}. Best is trial 23 with value: 0.824262920568852.\n",
      "[I 2020-08-31 14:18:32,172] Trial 43 finished with value: 0.8210197710718002 and parameters: {'n_neighbors': 2, 'algorithm': 'kd_tree', 'p': 1}. Best is trial 23 with value: 0.824262920568852.\n",
      "[I 2020-08-31 14:22:25,111] Trial 44 finished with value: 0.8228061047519943 and parameters: {'n_neighbors': 5, 'algorithm': 'kd_tree', 'p': 1}. Best is trial 23 with value: 0.824262920568852.\n",
      "[I 2020-08-31 14:26:40,408] Trial 45 finished with value: 0.8219562955254943 and parameters: {'n_neighbors': 8, 'algorithm': 'kd_tree', 'p': 1}. Best is trial 23 with value: 0.824262920568852.\n",
      "[I 2020-08-31 14:31:03,708] Trial 46 finished with value: 0.8207422823447796 and parameters: {'n_neighbors': 10, 'algorithm': 'kd_tree', 'p': 1}. Best is trial 23 with value: 0.824262920568852.\n",
      "[I 2020-08-31 14:39:12,265] Trial 47 finished with value: 0.824262920568852 and parameters: {'n_neighbors': 4, 'algorithm': 'ball_tree', 'p': 1}. Best is trial 23 with value: 0.824262920568852.\n",
      "[I 2020-08-31 14:42:28,635] Trial 48 finished with value: 0.8210197710718002 and parameters: {'n_neighbors': 2, 'algorithm': 'kd_tree', 'p': 1}. Best is trial 23 with value: 0.824262920568852.\n",
      "[I 2020-08-31 14:46:32,886] Trial 49 finished with value: 0.8217134928893512 and parameters: {'n_neighbors': 7, 'algorithm': 'kd_tree', 'p': 1}. Best is trial 23 with value: 0.824262920568852.\n"
     ]
    }
   ],
   "source": [
    "def find_hyperp_KNN(trial):\n",
    "    n_neighbors = trial.suggest_int('n_neighbors', 1, 31)\n",
    "    algorithm = trial.suggest_categorical('algorithm', ['ball_tree', 'kd_tree'])\n",
    "    #leaf_size = trial.suggest_int('leaf_size', 2, 60)\n",
    "    p = trial.suggest_categorical('p', [1, 2])\n",
    "    knc = KNeighborsClassifier(weights = 'distance', \n",
    "                             n_neighbors = n_neighbors, \n",
    "                             algorithm = algorithm, \n",
    "                             #leaf_size = leaf_size, \n",
    "                             p = p)\n",
    "    cv = KFold(n_splits = 5, shuffle = True, random_state = 20)\n",
    "    score = np.mean(cross_val_score(knc, X_train, y_train, scoring = 'accuracy', cv = cv, n_jobs = -1))\n",
    "    return (score)\n",
    "\n",
    "# initiating the optuna study\n",
    "knn_study = optuna.create_study(direction='maximize')\n",
    "\n",
    "# optimization process\n",
    "knn_study.optimize(find_hyperp_KNN, n_trials=50)"
   ]
  },
  {
   "cell_type": "code",
   "execution_count": 28,
   "metadata": {},
   "outputs": [],
   "source": [
    "# saving the study \n",
    "mod = open('PKL/knn_study.pkl', 'wb')\n",
    "pickle.dump(knn_study, mod)\n",
    "mod.close()"
   ]
  },
  {
   "cell_type": "code",
   "execution_count": 17,
   "metadata": {},
   "outputs": [],
   "source": [
    "# Reload the study\n",
    "knn_study = pickle.load(open('PKL/knn_study.pkl', 'rb'))"
   ]
  },
  {
   "cell_type": "code",
   "execution_count": 29,
   "metadata": {},
   "outputs": [
    {
     "name": "stdout",
     "output_type": "stream",
     "text": [
      "Accuracy:  0.754 Test F1 score:  0.644 / Cohen Kappa:  0.556\n",
      "                         precision    recall  f1-score   support\n",
      "\n",
      "             functional       0.80      0.80      0.80      4822\n",
      "functional needs repair       0.36      0.37      0.37       678\n",
      "         non functional       0.77      0.76      0.76      3410\n",
      "\n",
      "               accuracy                           0.75      8910\n",
      "              macro avg       0.64      0.64      0.64      8910\n",
      "           weighted avg       0.75      0.75      0.75      8910\n",
      "\n"
     ]
    }
   ],
   "source": [
    "# Testing the best params on the test set\n",
    "knc_opt = KNeighborsClassifier(**knn_study.best_params, weights = 'distance', n_jobs = -1)\n",
    "knc_opt.fit(X_train, y_train)\n",
    "\n",
    "y_pred = knc_opt.predict(X_test)\n",
    "scoring(y_test, y_pred, 'knn optuna')\n",
    "print(classification_report(y_test, y_pred))\n",
    "# Accuracy:  0.754 Test F1 score:  0.644 / Cohen Kappa:  0.556\n",
    "# functional needs repair recall = 0.37"
   ]
  },
  {
   "cell_type": "markdown",
   "metadata": {},
   "source": [
    "Recall score for the needs repair class is still low but the overall performance and the recall for non-functional improved slightly."
   ]
  },
  {
   "cell_type": "code",
   "execution_count": 30,
   "metadata": {},
   "outputs": [],
   "source": [
    "# saving the model\n",
    "mod = open('PKL/knc_opt_model.pkl', 'wb')\n",
    "pickle.dump(knc_opt, mod)\n",
    "mod.close()"
   ]
  },
  {
   "cell_type": "code",
   "execution_count": 18,
   "metadata": {},
   "outputs": [],
   "source": [
    "knc_study = pickle.load(open('PKL/knc_opt_model.pkl', 'rb'))"
   ]
  },
  {
   "cell_type": "markdown",
   "metadata": {},
   "source": [
    "## Random Forest \n",
    "We will run random forest optimized by Optuna."
   ]
  },
  {
   "cell_type": "code",
   "execution_count": 19,
   "metadata": {},
   "outputs": [],
   "source": [
    "from sklearn.ensemble import RandomForestClassifier"
   ]
  },
  {
   "cell_type": "code",
   "execution_count": 33,
   "metadata": {
    "scrolled": true
   },
   "outputs": [
    {
     "name": "stderr",
     "output_type": "stream",
     "text": [
      "[I 2020-08-31 15:19:45,141] Trial 2 finished with value: 0.7546999653139091 and parameters: {'n_estimators': 157, 'min_samples_split': 2, 'min_samples_leaf': 7, 'criterion': 'entropy', 'class_weight': 'balanced', 'max_features': 140, 'min_weight_fraction_leaf': 0.002360813755796459, 'max_leaf_nodes': 143}. Best is trial 2 with value: 0.7546999653139091.\n",
      "[I 2020-08-31 15:21:30,915] Trial 3 finished with value: 0.7416579951439474 and parameters: {'n_estimators': 236, 'min_samples_split': 9, 'min_samples_leaf': 1, 'criterion': 'entropy', 'class_weight': 'balanced', 'max_features': 36, 'min_weight_fraction_leaf': 5.857245209987763e-07, 'max_leaf_nodes': 96}. Best is trial 2 with value: 0.7546999653139091.\n",
      "[I 2020-08-31 15:24:16,631] Trial 4 finished with value: 0.7600936524453694 and parameters: {'n_estimators': 684, 'min_samples_split': 10, 'min_samples_leaf': 10, 'criterion': 'entropy', 'class_weight': 'balanced_subsample', 'max_features': 13, 'min_weight_fraction_leaf': 2.9905883938437955e-06, 'max_leaf_nodes': 164}. Best is trial 4 with value: 0.7600936524453694.\n",
      "[I 2020-08-31 15:28:38,856] Trial 5 finished with value: 0.6923343739160597 and parameters: {'n_estimators': 580, 'min_samples_split': 5, 'min_samples_leaf': 4, 'criterion': 'entropy', 'class_weight': 'balanced', 'max_features': 49, 'min_weight_fraction_leaf': 0.0032735249598325445, 'max_leaf_nodes': 29}. Best is trial 4 with value: 0.7600936524453694.\n",
      "[I 2020-08-31 15:29:40,400] Trial 6 finished with value: 0.7194242108914326 and parameters: {'n_estimators': 125, 'min_samples_split': 9, 'min_samples_leaf': 10, 'criterion': 'entropy', 'class_weight': 'balanced_subsample', 'max_features': 44, 'min_weight_fraction_leaf': 3.040615535438118e-06, 'max_leaf_nodes': 53}. Best is trial 4 with value: 0.7600936524453694.\n",
      "[I 2020-08-31 15:35:45,487] Trial 7 finished with value: 0.7671696149843913 and parameters: {'n_estimators': 142, 'min_samples_split': 5, 'min_samples_leaf': 9, 'criterion': 'entropy', 'class_weight': 'balanced', 'max_features': 251, 'min_weight_fraction_leaf': 2.385059629677645e-06, 'max_leaf_nodes': 178}. Best is trial 7 with value: 0.7671696149843913.\n",
      "[I 2020-08-31 16:02:35,771] Trial 8 finished with value: 0.7124523066250434 and parameters: {'n_estimators': 568, 'min_samples_split': 4, 'min_samples_leaf': 10, 'criterion': 'entropy', 'class_weight': 'balanced', 'max_features': 296, 'min_weight_fraction_leaf': 2.8658911033964037e-05, 'max_leaf_nodes': 55}. Best is trial 7 with value: 0.7671696149843913.\n",
      "[I 2020-08-31 16:33:59,880] Trial 9 finished with value: 0.7667013527575441 and parameters: {'n_estimators': 616, 'min_samples_split': 2, 'min_samples_leaf': 4, 'criterion': 'gini', 'class_weight': 'balanced_subsample', 'max_features': 292, 'min_weight_fraction_leaf': 5.633263596146805e-06, 'max_leaf_nodes': 160}. Best is trial 7 with value: 0.7671696149843913.\n",
      "[I 2020-08-31 16:36:15,101] Trial 10 finished with value: 0.6658168574401665 and parameters: {'n_estimators': 207, 'min_samples_split': 3, 'min_samples_leaf': 9, 'criterion': 'entropy', 'class_weight': 'balanced_subsample', 'max_features': 77, 'min_weight_fraction_leaf': 6.319146278349029e-07, 'max_leaf_nodes': 17}. Best is trial 7 with value: 0.7671696149843913.\n",
      "[I 2020-08-31 16:41:37,062] Trial 11 finished with value: 0.5371488033298648 and parameters: {'n_estimators': 442, 'min_samples_split': 7, 'min_samples_leaf': 7, 'criterion': 'gini', 'class_weight': 'balanced', 'max_features': 208, 'min_weight_fraction_leaf': 0.09785861156589275, 'max_leaf_nodes': 189}. Best is trial 7 with value: 0.7671696149843913.\n",
      "[I 2020-08-31 16:59:17,402] Trial 12 finished with value: 0.7767256330211585 and parameters: {'n_estimators': 430, 'min_samples_split': 2, 'min_samples_leaf': 4, 'criterion': 'gini', 'class_weight': 'balanced_subsample', 'max_features': 244, 'min_weight_fraction_leaf': 0.00011426221852032035, 'max_leaf_nodes': 196}. Best is trial 12 with value: 0.7767256330211585.\n",
      "[I 2020-08-31 17:15:18,886] Trial 13 finished with value: 0.7772979535206382 and parameters: {'n_estimators': 448, 'min_samples_split': 6, 'min_samples_leaf': 3, 'criterion': 'gini', 'class_weight': 'balanced_subsample', 'max_features': 214, 'min_weight_fraction_leaf': 0.0007089892752879406, 'max_leaf_nodes': 198}. Best is trial 13 with value: 0.7772979535206382.\n",
      "[I 2020-08-31 17:28:08,711] Trial 14 finished with value: 0.780454387790496 and parameters: {'n_estimators': 444, 'min_samples_split': 6, 'min_samples_leaf': 3, 'criterion': 'gini', 'class_weight': 'balanced_subsample', 'max_features': 163, 'min_weight_fraction_leaf': 0.0004781549635402425, 'max_leaf_nodes': 198}. Best is trial 14 with value: 0.780454387790496.\n",
      "[I 2020-08-31 17:39:46,465] Trial 15 finished with value: 0.7621748178980228 and parameters: {'n_estimators': 495, 'min_samples_split': 6, 'min_samples_leaf': 2, 'criterion': 'gini', 'class_weight': 'balanced_subsample', 'max_features': 142, 'min_weight_fraction_leaf': 0.0011859055765853267, 'max_leaf_nodes': 131}. Best is trial 14 with value: 0.780454387790496.\n",
      "[I 2020-08-31 17:44:31,467] Trial 16 finished with value: 0.6314082552896287 and parameters: {'n_estimators': 341, 'min_samples_split': 7, 'min_samples_leaf': 3, 'criterion': 'gini', 'class_weight': 'balanced_subsample', 'max_features': 160, 'min_weight_fraction_leaf': 0.06990130942412434, 'max_leaf_nodes': 200}. Best is trial 14 with value: 0.780454387790496.\n",
      "[I 2020-08-31 18:14:28,401] Trial 17 finished with value: 0.7515435310440515 and parameters: {'n_estimators': 501, 'min_samples_split': 6, 'min_samples_leaf': 6, 'criterion': 'gini', 'class_weight': 'balanced_subsample', 'max_features': 392, 'min_weight_fraction_leaf': 0.00029879396862010497, 'max_leaf_nodes': 123}. Best is trial 14 with value: 0.780454387790496.\n",
      "[I 2020-08-31 18:19:20,850] Trial 18 finished with value: 0.6908081859174472 and parameters: {'n_estimators': 360, 'min_samples_split': 5, 'min_samples_leaf': 2, 'criterion': 'gini', 'class_weight': 'balanced_subsample', 'max_features': 96, 'min_weight_fraction_leaf': 0.019133647561570277, 'max_leaf_nodes': 171}. Best is trial 14 with value: 0.780454387790496.\n",
      "[I 2020-08-31 18:28:11,175] Trial 19 finished with value: 0.7792577176552202 and parameters: {'n_estimators': 287, 'min_samples_split': 7, 'min_samples_leaf': 5, 'criterion': 'gini', 'class_weight': 'balanced_subsample', 'max_features': 188, 'min_weight_fraction_leaf': 0.00045003620907433956, 'max_leaf_nodes': 199}. Best is trial 14 with value: 0.780454387790496.\n",
      "[I 2020-08-31 18:34:32,352] Trial 20 finished with value: 0.712486992715921 and parameters: {'n_estimators': 274, 'min_samples_split': 8, 'min_samples_leaf': 5, 'criterion': 'gini', 'class_weight': 'balanced_subsample', 'max_features': 166, 'min_weight_fraction_leaf': 0.010767117697892745, 'max_leaf_nodes': 152}. Best is trial 14 with value: 0.780454387790496.\n",
      "[I 2020-08-31 18:41:44,513] Trial 21 finished with value: 0.7409469302809574 and parameters: {'n_estimators': 371, 'min_samples_split': 7, 'min_samples_leaf': 6, 'criterion': 'gini', 'class_weight': 'balanced_subsample', 'max_features': 109, 'min_weight_fraction_leaf': 3.3158261772744726e-05, 'max_leaf_nodes': 77}. Best is trial 14 with value: 0.780454387790496.\n",
      "[I 2020-08-31 18:57:43,335] Trial 22 finished with value: 0.7785293097467915 and parameters: {'n_estimators': 476, 'min_samples_split': 6, 'min_samples_leaf': 3, 'criterion': 'gini', 'class_weight': 'balanced_subsample', 'max_features': 203, 'min_weight_fraction_leaf': 0.0004260025406276917, 'max_leaf_nodes': 200}. Best is trial 14 with value: 0.780454387790496.\n",
      "[I 2020-08-31 19:12:45,063] Trial 23 finished with value: 0.7760492542490461 and parameters: {'n_estimators': 506, 'min_samples_split': 4, 'min_samples_leaf': 3, 'criterion': 'gini', 'class_weight': 'balanced_subsample', 'max_features': 180, 'min_weight_fraction_leaf': 0.00024728356231982216, 'max_leaf_nodes': 180}. Best is trial 14 with value: 0.780454387790496.\n",
      "[I 2020-08-31 19:24:20,757] Trial 24 finished with value: 0.7767429760665973 and parameters: {'n_estimators': 286, 'min_samples_split': 8, 'min_samples_leaf': 5, 'criterion': 'gini', 'class_weight': 'balanced_subsample', 'max_features': 236, 'min_weight_fraction_leaf': 4.630284990635767e-05, 'max_leaf_nodes': 198}. Best is trial 14 with value: 0.780454387790496.\n",
      "[I 2020-08-31 19:32:45,885] Trial 25 finished with value: 0.7781997918834547 and parameters: {'n_estimators': 389, 'min_samples_split': 7, 'min_samples_leaf': 2, 'criterion': 'gini', 'class_weight': 'balanced_subsample', 'max_features': 124, 'min_weight_fraction_leaf': 0.0005002453255510903, 'max_leaf_nodes': 186}. Best is trial 14 with value: 0.780454387790496.\n",
      "[I 2020-08-31 19:49:30,078] Trial 26 finished with value: 0.7402011793270898 and parameters: {'n_estimators': 541, 'min_samples_split': 5, 'min_samples_leaf': 4, 'criterion': 'gini', 'class_weight': 'balanced_subsample', 'max_features': 188, 'min_weight_fraction_leaf': 0.005149684609044386, 'max_leaf_nodes': 139}. Best is trial 14 with value: 0.780454387790496.\n",
      "[I 2020-08-31 20:07:06,089] Trial 27 finished with value: 0.7564516129032258 and parameters: {'n_estimators': 408, 'min_samples_split': 4, 'min_samples_leaf': 5, 'criterion': 'gini', 'class_weight': 'balanced_subsample', 'max_features': 278, 'min_weight_fraction_leaf': 0.00011882944593674814, 'max_leaf_nodes': 119}. Best is trial 14 with value: 0.780454387790496.\n",
      "[I 2020-08-31 20:28:34,550] Trial 28 finished with value: 0.7691987513007285 and parameters: {'n_estimators': 633, 'min_samples_split': 6, 'min_samples_leaf': 3, 'criterion': 'gini', 'class_weight': 'balanced_subsample', 'max_features': 211, 'min_weight_fraction_leaf': 0.0013637287368309006, 'max_leaf_nodes': 171}. Best is trial 14 with value: 0.780454387790496.\n",
      "[I 2020-08-31 20:52:52,550] Trial 29 finished with value: 0.7629379118973292 and parameters: {'n_estimators': 479, 'min_samples_split': 7, 'min_samples_leaf': 7, 'criterion': 'gini', 'class_weight': 'balanced_subsample', 'max_features': 324, 'min_weight_fraction_leaf': 1.4737918142563811e-05, 'max_leaf_nodes': 152}. Best is trial 14 with value: 0.780454387790496.\n",
      "[I 2020-08-31 21:01:38,698] Trial 30 finished with value: 0.7815816857440167 and parameters: {'n_estimators': 306, 'min_samples_split': 9, 'min_samples_leaf': 1, 'criterion': 'gini', 'class_weight': 'balanced_subsample', 'max_features': 156, 'min_weight_fraction_leaf': 0.00018419899344673717, 'max_leaf_nodes': 200}. Best is trial 30 with value: 0.7815816857440167.\n",
      "[I 2020-08-31 21:09:51,469] Trial 31 finished with value: 0.7551161984044399 and parameters: {'n_estimators': 324, 'min_samples_split': 10, 'min_samples_leaf': 1, 'criterion': 'gini', 'class_weight': 'balanced_subsample', 'max_features': 151, 'min_weight_fraction_leaf': 0.000131286866661322, 'max_leaf_nodes': 105}. Best is trial 30 with value: 0.7815816857440167.\n",
      "[I 2020-08-31 21:19:22,513] Trial 32 finished with value: 0.7795005202913632 and parameters: {'n_estimators': 306, 'min_samples_split': 8, 'min_samples_leaf': 1, 'criterion': 'gini', 'class_weight': 'balanced_subsample', 'max_features': 188, 'min_weight_fraction_leaf': 0.0003307588055427963, 'max_leaf_nodes': 200}. Best is trial 30 with value: 0.7815816857440167.\n",
      "[I 2020-08-31 21:24:35,941] Trial 33 finished with value: 0.7739160596600761 and parameters: {'n_estimators': 225, 'min_samples_split': 8, 'min_samples_leaf': 1, 'criterion': 'gini', 'class_weight': 'balanced_subsample', 'max_features': 129, 'min_weight_fraction_leaf': 0.001266579186350099, 'max_leaf_nodes': 184}. Best is trial 30 with value: 0.7815816857440167.\n",
      "[I 2020-08-31 21:33:03,315] Trial 34 finished with value: 0.7778355879292402 and parameters: {'n_estimators': 279, 'min_samples_split': 9, 'min_samples_leaf': 2, 'criterion': 'gini', 'class_weight': 'balanced_subsample', 'max_features': 177, 'min_weight_fraction_leaf': 0.00022021200746459384, 'max_leaf_nodes': 191}. Best is trial 30 with value: 0.7815816857440167.\n",
      "[I 2020-08-31 21:39:56,901] Trial 35 finished with value: 0.7711758584807491 and parameters: {'n_estimators': 175, 'min_samples_split': 9, 'min_samples_leaf': 1, 'criterion': 'gini', 'class_weight': 'balanced_subsample', 'max_features': 229, 'min_weight_fraction_leaf': 5.984807019087682e-05, 'max_leaf_nodes': 169}. Best is trial 30 with value: 0.7815816857440167.\n",
      "[I 2020-08-31 21:44:48,035] Trial 36 finished with value: 0.7669961845300035 and parameters: {'n_estimators': 303, 'min_samples_split': 8, 'min_samples_leaf': 1, 'criterion': 'gini', 'class_weight': 'balanced_subsample', 'max_features': 91, 'min_weight_fraction_leaf': 0.002255002543472403, 'max_leaf_nodes': 200}. Best is trial 30 with value: 0.7815816857440167.\n",
      "[I 2020-08-31 21:50:31,338] Trial 37 finished with value: 0.7770898369753729 and parameters: {'n_estimators': 261, 'min_samples_split': 9, 'min_samples_leaf': 2, 'criterion': 'gini', 'class_weight': 'balanced_subsample', 'max_features': 121, 'min_weight_fraction_leaf': 1.63575507506731e-05, 'max_leaf_nodes': 178}. Best is trial 30 with value: 0.7815816857440167.\n",
      "[I 2020-08-31 21:52:29,819] Trial 38 finished with value: 0.7158862296219215 and parameters: {'n_estimators': 191, 'min_samples_split': 10, 'min_samples_leaf': 1, 'criterion': 'gini', 'class_weight': 'balanced', 'max_features': 65, 'min_weight_fraction_leaf': 0.009134206815605506, 'max_leaf_nodes': 158}. Best is trial 30 with value: 0.7815816857440167.\n",
      "[I 2020-08-31 21:55:21,275] Trial 39 finished with value: 0.7769510926118626 and parameters: {'n_estimators': 102, 'min_samples_split': 8, 'min_samples_leaf': 4, 'criterion': 'gini', 'class_weight': 'balanced_subsample', 'max_features': 157, 'min_weight_fraction_leaf': 0.0006101947880141932, 'max_leaf_nodes': 188}. Best is trial 30 with value: 0.7815816857440167.\n",
      "[I 2020-08-31 22:08:53,773] Trial 40 finished with value: 0.7432882414151925 and parameters: {'n_estimators': 330, 'min_samples_split': 10, 'min_samples_leaf': 6, 'criterion': 'entropy', 'class_weight': 'balanced', 'max_features': 260, 'min_weight_fraction_leaf': 0.0038105074579868163, 'max_leaf_nodes': 145}. Best is trial 30 with value: 0.7815816857440167.\n",
      "[I 2020-08-31 22:16:20,863] Trial 41 finished with value: 0.7736212278876171 and parameters: {'n_estimators': 243, 'min_samples_split': 9, 'min_samples_leaf': 8, 'criterion': 'gini', 'class_weight': 'balanced_subsample', 'max_features': 186, 'min_weight_fraction_leaf': 7.153215412566643e-05, 'max_leaf_nodes': 174}. Best is trial 30 with value: 0.7815816857440167.\n",
      "[I 2020-08-31 22:30:08,615] Trial 42 finished with value: 0.7790322580645161 and parameters: {'n_estimators': 419, 'min_samples_split': 7, 'min_samples_leaf': 3, 'criterion': 'gini', 'class_weight': 'balanced_subsample', 'max_features': 198, 'min_weight_fraction_leaf': 0.00036381822511487316, 'max_leaf_nodes': 200}. Best is trial 30 with value: 0.7815816857440167.\n",
      "[I 2020-08-31 22:45:13,094] Trial 43 finished with value: 0.7775407561567812 and parameters: {'n_estimators': 403, 'min_samples_split': 7, 'min_samples_leaf': 2, 'criterion': 'gini', 'class_weight': 'balanced_subsample', 'max_features': 224, 'min_weight_fraction_leaf': 0.00018725068490031512, 'max_leaf_nodes': 200}. Best is trial 30 with value: 0.7815816857440167.\n",
      "[I 2020-08-31 22:56:49,495] Trial 44 finished with value: 0.774245577523413 and parameters: {'n_estimators': 351, 'min_samples_split': 7, 'min_samples_leaf': 5, 'criterion': 'gini', 'class_weight': 'balanced_subsample', 'max_features': 194, 'min_weight_fraction_leaf': 0.0010175852362437165, 'max_leaf_nodes': 189}. Best is trial 30 with value: 0.7815816857440167.\n",
      "[I 2020-08-31 23:04:08,916] Trial 45 finished with value: 0.7778182448838016 and parameters: {'n_estimators': 310, 'min_samples_split': 8, 'min_samples_leaf': 4, 'criterion': 'gini', 'class_weight': 'balanced_subsample', 'max_features': 142, 'min_weight_fraction_leaf': 0.00036304652252844267, 'max_leaf_nodes': 181}. Best is trial 30 with value: 0.7815816857440167.\n"
     ]
    },
    {
     "name": "stderr",
     "output_type": "stream",
     "text": [
      "[I 2020-08-31 23:17:33,909] Trial 46 finished with value: 0.7606486298994103 and parameters: {'n_estimators': 424, 'min_samples_split': 8, 'min_samples_leaf': 3, 'criterion': 'entropy', 'class_weight': 'balanced_subsample', 'max_features': 197, 'min_weight_fraction_leaf': 0.00203067672140001, 'max_leaf_nodes': 165}. Best is trial 30 with value: 0.7815816857440167.\n",
      "[I 2020-08-31 23:33:30,099] Trial 47 finished with value: 0.773309053069719 and parameters: {'n_estimators': 373, 'min_samples_split': 7, 'min_samples_leaf': 2, 'criterion': 'gini', 'class_weight': 'balanced_subsample', 'max_features': 264, 'min_weight_fraction_leaf': 0.0007392806811034481, 'max_leaf_nodes': 191}. Best is trial 30 with value: 0.7815816857440167.\n",
      "[I 2020-08-31 23:40:51,094] Trial 48 finished with value: 0.7798300381547001 and parameters: {'n_estimators': 255, 'min_samples_split': 6, 'min_samples_leaf': 1, 'criterion': 'gini', 'class_weight': 'balanced', 'max_features': 175, 'min_weight_fraction_leaf': 2.0955445756536143e-05, 'max_leaf_nodes': 200}. Best is trial 30 with value: 0.7815816857440167.\n",
      "[I 2020-08-31 23:46:26,283] Trial 49 finished with value: 0.7271765522025667 and parameters: {'n_estimators': 223, 'min_samples_split': 5, 'min_samples_leaf': 1, 'criterion': 'gini', 'class_weight': 'balanced', 'max_features': 170, 'min_weight_fraction_leaf': 5.471314431249633e-06, 'max_leaf_nodes': 53}. Best is trial 30 with value: 0.7815816857440167.\n",
      "[I 2020-08-31 23:47:13,693] Trial 50 finished with value: 0.760908775580992 and parameters: {'n_estimators': 252, 'min_samples_split': 6, 'min_samples_leaf': 2, 'criterion': 'entropy', 'class_weight': 'balanced', 'max_features': 9, 'min_weight_fraction_leaf': 1.1362705455853781e-06, 'max_leaf_nodes': 192}. Best is trial 30 with value: 0.7815816857440167.\n",
      "[I 2020-08-31 23:50:20,601] Trial 51 finished with value: 0.7782344779743323 and parameters: {'n_estimators': 147, 'min_samples_split': 9, 'min_samples_leaf': 1, 'criterion': 'gini', 'class_weight': 'balanced', 'max_features': 111, 'min_weight_fraction_leaf': 1.4371520399023904e-05, 'max_leaf_nodes': 180}. Best is trial 30 with value: 0.7815816857440167.\n",
      "[I 2020-09-01 00:01:19,204] Trial 52 finished with value: 0.776690946930281 and parameters: {'n_estimators': 296, 'min_samples_split': 7, 'min_samples_leaf': 3, 'criterion': 'gini', 'class_weight': 'balanced', 'max_features': 221, 'min_weight_fraction_leaf': 9.504840453197444e-05, 'max_leaf_nodes': 195}. Best is trial 30 with value: 0.7815816857440167.\n",
      "[I 2020-09-01 00:12:04,826] Trial 53 finished with value: 0.781321540062435 and parameters: {'n_estimators': 459, 'min_samples_split': 6, 'min_samples_leaf': 1, 'criterion': 'gini', 'class_weight': 'balanced', 'max_features': 142, 'min_weight_fraction_leaf': 3.3576961799034626e-05, 'max_leaf_nodes': 200}. Best is trial 30 with value: 0.7815816857440167.\n",
      "[I 2020-09-01 00:22:29,508] Trial 54 finished with value: 0.7792056885189039 and parameters: {'n_estimators': 468, 'min_samples_split': 6, 'min_samples_leaf': 1, 'criterion': 'gini', 'class_weight': 'balanced', 'max_features': 134, 'min_weight_fraction_leaf': 2.455648234433222e-05, 'max_leaf_nodes': 185}. Best is trial 30 with value: 0.7815816857440167.\n",
      "[I 2020-09-01 00:32:18,731] Trial 55 finished with value: 0.7730662504335761 and parameters: {'n_estimators': 386, 'min_samples_split': 5, 'min_samples_leaf': 2, 'criterion': 'gini', 'class_weight': 'balanced', 'max_features': 154, 'min_weight_fraction_leaf': 7.972550725513488e-06, 'max_leaf_nodes': 162}. Best is trial 30 with value: 0.7815816857440167.\n",
      "[I 2020-09-01 00:44:50,675] Trial 56 finished with value: 0.7791536593825875 and parameters: {'n_estimators': 446, 'min_samples_split': 6, 'min_samples_leaf': 1, 'criterion': 'gini', 'class_weight': 'balanced', 'max_features': 170, 'min_weight_fraction_leaf': 4.3601296730244886e-05, 'max_leaf_nodes': 194}. Best is trial 30 with value: 0.7815816857440167.\n",
      "[I 2020-09-01 00:57:37,825] Trial 57 finished with value: 0.7816163718348943 and parameters: {'n_estimators': 535, 'min_samples_split': 5, 'min_samples_leaf': 2, 'criterion': 'gini', 'class_weight': 'balanced', 'max_features': 144, 'min_weight_fraction_leaf': 0.00017411124905027318, 'max_leaf_nodes': 200}. Best is trial 57 with value: 0.7816163718348943.\n",
      "[I 2020-09-01 01:05:42,967] Trial 58 finished with value: 0.7753555324314949 and parameters: {'n_estimators': 528, 'min_samples_split': 4, 'min_samples_leaf': 2, 'criterion': 'gini', 'class_weight': 'balanced', 'max_features': 88, 'min_weight_fraction_leaf': 0.0001520054844521556, 'max_leaf_nodes': 175}. Best is trial 57 with value: 0.7816163718348943.\n",
      "[I 2020-09-01 01:17:45,296] Trial 59 finished with value: 0.7793444328824142 and parameters: {'n_estimators': 623, 'min_samples_split': 5, 'min_samples_leaf': 1, 'criterion': 'gini', 'class_weight': 'balanced', 'max_features': 108, 'min_weight_fraction_leaf': 1.099017829742345e-07, 'max_leaf_nodes': 185}. Best is trial 57 with value: 0.7816163718348943.\n",
      "[I 2020-09-01 01:28:43,834] Trial 60 finished with value: 0.7020638224072148 and parameters: {'n_estimators': 518, 'min_samples_split': 5, 'min_samples_leaf': 2, 'criterion': 'gini', 'class_weight': 'balanced', 'max_features': 144, 'min_weight_fraction_leaf': 2.5202976878847573e-05, 'max_leaf_nodes': 31}. Best is trial 57 with value: 0.7816163718348943.\n",
      "[I 2020-09-01 01:41:03,190] Trial 61 finished with value: 0.7803676725633022 and parameters: {'n_estimators': 454, 'min_samples_split': 3, 'min_samples_leaf': 1, 'criterion': 'gini', 'class_weight': 'balanced', 'max_features': 163, 'min_weight_fraction_leaf': 8.85651056178145e-05, 'max_leaf_nodes': 200}. Best is trial 57 with value: 0.7816163718348943.\n",
      "[I 2020-09-01 01:56:39,036] Trial 62 finished with value: 0.7805931321540063 and parameters: {'n_estimators': 569, 'min_samples_split': 3, 'min_samples_leaf': 1, 'criterion': 'gini', 'class_weight': 'balanced', 'max_features': 161, 'min_weight_fraction_leaf': 8.668124659622428e-05, 'max_leaf_nodes': 199}. Best is trial 57 with value: 0.7816163718348943.\n",
      "[I 2020-09-01 02:08:46,366] Trial 63 finished with value: 0.7811134235171695 and parameters: {'n_estimators': 578, 'min_samples_split': 3, 'min_samples_leaf': 1, 'criterion': 'gini', 'class_weight': 'balanced', 'max_features': 120, 'min_weight_fraction_leaf': 7.947828932728847e-05, 'max_leaf_nodes': 195}. Best is trial 57 with value: 0.7816163718348943.\n",
      "[I 2020-09-01 02:21:05,876] Trial 64 finished with value: 0.7805757891085674 and parameters: {'n_estimators': 587, 'min_samples_split': 3, 'min_samples_leaf': 2, 'criterion': 'gini', 'class_weight': 'balanced', 'max_features': 120, 'min_weight_fraction_leaf': 8.90411598744241e-05, 'max_leaf_nodes': 192}. Best is trial 57 with value: 0.7816163718348943.\n",
      "[I 2020-09-01 02:24:48,872] Trial 65 finished with value: 0.7692507804370449 and parameters: {'n_estimators': 575, 'min_samples_split': 3, 'min_samples_leaf': 2, 'criterion': 'gini', 'class_weight': 'balanced', 'max_features': 31, 'min_weight_fraction_leaf': 4.916130900107139e-05, 'max_leaf_nodes': 193}. Best is trial 57 with value: 0.7816163718348943.\n",
      "[I 2020-09-01 02:32:21,758] Trial 66 finished with value: 0.7713146028442595 and parameters: {'n_estimators': 600, 'min_samples_split': 2, 'min_samples_leaf': 2, 'criterion': 'gini', 'class_weight': 'balanced', 'max_features': 68, 'min_weight_fraction_leaf': 0.00020796965628481828, 'max_leaf_nodes': 168}. Best is trial 57 with value: 0.7816163718348943.\n",
      "[I 2020-09-01 02:45:54,515] Trial 67 finished with value: 0.7765348595213319 and parameters: {'n_estimators': 653, 'min_samples_split': 3, 'min_samples_leaf': 3, 'criterion': 'gini', 'class_weight': 'balanced', 'max_features': 109, 'min_weight_fraction_leaf': 3.6784049874328726e-05, 'max_leaf_nodes': 176}. Best is trial 57 with value: 0.7816163718348943.\n",
      "[I 2020-09-01 02:58:54,034] Trial 68 finished with value: 0.7783732223378426 and parameters: {'n_estimators': 551, 'min_samples_split': 4, 'min_samples_leaf': 2, 'criterion': 'gini', 'class_weight': 'balanced', 'max_features': 137, 'min_weight_fraction_leaf': 7.064460583097715e-05, 'max_leaf_nodes': 184}. Best is trial 57 with value: 0.7816163718348943.\n",
      "[I 2020-09-01 03:11:05,325] Trial 69 finished with value: 0.7805237599722512 and parameters: {'n_estimators': 595, 'min_samples_split': 2, 'min_samples_leaf': 2, 'criterion': 'gini', 'class_weight': 'balanced', 'max_features': 121, 'min_weight_fraction_leaf': 1.0586925446678983e-05, 'max_leaf_nodes': 192}. Best is trial 57 with value: 0.7816163718348943.\n",
      "[I 2020-09-01 03:23:33,270] Trial 70 finished with value: 0.7427332639611516 and parameters: {'n_estimators': 674, 'min_samples_split': 2, 'min_samples_leaf': 1, 'criterion': 'gini', 'class_weight': 'balanced', 'max_features': 119, 'min_weight_fraction_leaf': 8.061011638987081e-06, 'max_leaf_nodes': 80}. Best is trial 57 with value: 0.7816163718348943.\n",
      "[I 2020-09-01 03:33:36,886] Trial 71 finished with value: 0.775979882067291 and parameters: {'n_estimators': 604, 'min_samples_split': 3, 'min_samples_leaf': 2, 'criterion': 'entropy', 'class_weight': 'balanced', 'max_features': 91, 'min_weight_fraction_leaf': 9.414068365965199e-06, 'max_leaf_nodes': 193}. Best is trial 57 with value: 0.7816163718348943.\n",
      "[I 2020-09-01 03:48:00,382] Trial 72 finished with value: 0.7794138050641692 and parameters: {'n_estimators': 558, 'min_samples_split': 3, 'min_samples_leaf': 2, 'criterion': 'gini', 'class_weight': 'balanced', 'max_features': 149, 'min_weight_fraction_leaf': 0.00010735868163214162, 'max_leaf_nodes': 189}. Best is trial 57 with value: 0.7816163718348943.\n",
      "[I 2020-09-01 04:00:23,526] Trial 73 finished with value: 0.7808012486992715 and parameters: {'n_estimators': 574, 'min_samples_split': 2, 'min_samples_leaf': 1, 'criterion': 'gini', 'class_weight': 'balanced', 'max_features': 129, 'min_weight_fraction_leaf': 2.7248215629859025e-06, 'max_leaf_nodes': 195}. Best is trial 57 with value: 0.7816163718348943.\n",
      "[I 2020-09-01 04:10:43,457] Trial 74 finished with value: 0.7780090183836281 and parameters: {'n_estimators': 590, 'min_samples_split': 2, 'min_samples_leaf': 1, 'criterion': 'gini', 'class_weight': 'balanced', 'max_features': 102, 'min_weight_fraction_leaf': 2.6752587633004215e-06, 'max_leaf_nodes': 183}. Best is trial 57 with value: 0.7816163718348943.\n",
      "[I 2020-09-01 04:24:27,415] Trial 75 finished with value: 0.7810093652445369 and parameters: {'n_estimators': 640, 'min_samples_split': 2, 'min_samples_leaf': 1, 'criterion': 'gini', 'class_weight': 'balanced', 'max_features': 121, 'min_weight_fraction_leaf': 1.6679060846678906e-06, 'max_leaf_nodes': 196}. Best is trial 57 with value: 0.7816163718348943.\n",
      "[I 2020-09-01 04:33:25,737] Trial 76 finished with value: 0.7781651057925771 and parameters: {'n_estimators': 642, 'min_samples_split': 3, 'min_samples_leaf': 1, 'criterion': 'gini', 'class_weight': 'balanced', 'max_features': 79, 'min_weight_fraction_leaf': 2.504853538155138e-07, 'max_leaf_nodes': 196}. Best is trial 57 with value: 0.7816163718348943.\n",
      "[I 2020-09-01 04:49:02,129] Trial 77 finished with value: 0.7771938952480055 and parameters: {'n_estimators': 700, 'min_samples_split': 3, 'min_samples_leaf': 1, 'criterion': 'gini', 'class_weight': 'balanced', 'max_features': 131, 'min_weight_fraction_leaf': 7.671026810020594e-07, 'max_leaf_nodes': 178}. Best is trial 57 with value: 0.7816163718348943.\n",
      "[I 2020-09-01 05:00:49,650] Trial 78 finished with value: 0.776361429066944 and parameters: {'n_estimators': 538, 'min_samples_split': 4, 'min_samples_leaf': 1, 'criterion': 'gini', 'class_weight': 'balanced', 'max_features': 127, 'min_weight_fraction_leaf': 1.3722470780832539e-06, 'max_leaf_nodes': 172}. Best is trial 57 with value: 0.7816163718348943.\n",
      "[I 2020-09-01 05:14:42,582] Trial 79 finished with value: 0.7715920915712798 and parameters: {'n_estimators': 575, 'min_samples_split': 2, 'min_samples_leaf': 1, 'criterion': 'gini', 'class_weight': 'balanced', 'max_features': 143, 'min_weight_fraction_leaf': 4.505230982448942e-06, 'max_leaf_nodes': 156}. Best is trial 57 with value: 0.7816163718348943.\n",
      "[I 2020-09-01 05:27:03,835] Trial 80 finished with value: 0.7811481096080471 and parameters: {'n_estimators': 617, 'min_samples_split': 2, 'min_samples_leaf': 1, 'criterion': 'gini', 'class_weight': 'balanced', 'max_features': 118, 'min_weight_fraction_leaf': 2.6606963008441555e-07, 'max_leaf_nodes': 196}. Best is trial 57 with value: 0.7816163718348943.\n",
      "[I 2020-09-01 05:44:40,746] Trial 81 finished with value: 0.780853277835588 and parameters: {'n_estimators': 667, 'min_samples_split': 2, 'min_samples_leaf': 1, 'criterion': 'gini', 'class_weight': 'balanced', 'max_features': 153, 'min_weight_fraction_leaf': 2.742415064442531e-07, 'max_leaf_nodes': 200}. Best is trial 57 with value: 0.7816163718348943.\n",
      "[I 2020-09-01 06:02:29,640] Trial 82 finished with value: 0.7801248699271592 and parameters: {'n_estimators': 665, 'min_samples_split': 2, 'min_samples_leaf': 1, 'criterion': 'gini', 'class_weight': 'balanced', 'max_features': 158, 'min_weight_fraction_leaf': 2.945720427945487e-07, 'max_leaf_nodes': 197}. Best is trial 57 with value: 0.7816163718348943.\n",
      "[I 2020-09-01 06:13:29,543] Trial 83 finished with value: 0.7811134235171695 and parameters: {'n_estimators': 619, 'min_samples_split': 2, 'min_samples_leaf': 1, 'criterion': 'gini', 'class_weight': 'balanced', 'max_features': 99, 'min_weight_fraction_leaf': 1.474228576857771e-07, 'max_leaf_nodes': 200}. Best is trial 57 with value: 0.7816163718348943.\n",
      "[I 2020-09-01 06:24:12,028] Trial 84 finished with value: 0.7757891085674645 and parameters: {'n_estimators': 693, 'min_samples_split': 2, 'min_samples_leaf': 1, 'criterion': 'gini', 'class_weight': 'balanced', 'max_features': 80, 'min_weight_fraction_leaf': 1.4685817139352684e-07, 'max_leaf_nodes': 187}. Best is trial 57 with value: 0.7816163718348943.\n",
      "[I 2020-09-01 06:31:46,729] Trial 85 finished with value: 0.7748872702046479 and parameters: {'n_estimators': 619, 'min_samples_split': 2, 'min_samples_leaf': 1, 'criterion': 'gini', 'class_weight': 'balanced', 'max_features': 67, 'min_weight_fraction_leaf': 3.215686961467868e-07, 'max_leaf_nodes': 188}. Best is trial 57 with value: 0.7816163718348943.\n",
      "[I 2020-09-01 06:38:17,314] Trial 86 finished with value: 0.7742976066597295 and parameters: {'n_estimators': 638, 'min_samples_split': 2, 'min_samples_leaf': 1, 'criterion': 'gini', 'class_weight': 'balanced', 'max_features': 54, 'min_weight_fraction_leaf': 4.943885782851466e-07, 'max_leaf_nodes': 195}. Best is trial 57 with value: 0.7816163718348943.\n",
      "[I 2020-09-01 06:49:21,627] Trial 87 finished with value: 0.7806625043357613 and parameters: {'n_estimators': 654, 'min_samples_split': 2, 'min_samples_leaf': 1, 'criterion': 'gini', 'class_weight': 'balanced', 'max_features': 96, 'min_weight_fraction_leaf': 1.006828150375646e-07, 'max_leaf_nodes': 200}. Best is trial 57 with value: 0.7816163718348943.\n",
      "[I 2020-09-01 07:00:46,474] Trial 88 finished with value: 0.778338536246965 and parameters: {'n_estimators': 615, 'min_samples_split': 2, 'min_samples_leaf': 1, 'criterion': 'gini', 'class_weight': 'balanced', 'max_features': 109, 'min_weight_fraction_leaf': 1.7522184511564985e-06, 'max_leaf_nodes': 180}. Best is trial 57 with value: 0.7816163718348943.\n",
      "[I 2020-09-01 07:13:19,065] Trial 89 finished with value: 0.7790149150190774 and parameters: {'n_estimators': 557, 'min_samples_split': 2, 'min_samples_leaf': 2, 'criterion': 'gini', 'class_weight': 'balanced', 'max_features': 137, 'min_weight_fraction_leaf': 4.509723047669081e-07, 'max_leaf_nodes': 187}. Best is trial 57 with value: 0.7816163718348943.\n",
      "[I 2020-09-01 07:23:19,705] Trial 90 finished with value: 0.7809920221990982 and parameters: {'n_estimators': 505, 'min_samples_split': 2, 'min_samples_leaf': 1, 'criterion': 'gini', 'class_weight': 'balanced', 'max_features': 116, 'min_weight_fraction_leaf': 2.0800899552069146e-07, 'max_leaf_nodes': 195}. Best is trial 57 with value: 0.7816163718348943.\n"
     ]
    },
    {
     "name": "stderr",
     "output_type": "stream",
     "text": [
      "[I 2020-09-01 07:33:25,087] Trial 91 finished with value: 0.7816510579257716 and parameters: {'n_estimators': 511, 'min_samples_split': 4, 'min_samples_leaf': 1, 'criterion': 'gini', 'class_weight': 'balanced', 'max_features': 115, 'min_weight_fraction_leaf': 2.36142629553801e-07, 'max_leaf_nodes': 200}. Best is trial 91 with value: 0.7816510579257716.\n",
      "[I 2020-09-01 07:43:07,216] Trial 92 finished with value: 0.7811307665626084 and parameters: {'n_estimators': 494, 'min_samples_split': 3, 'min_samples_leaf': 1, 'criterion': 'gini', 'class_weight': 'balanced', 'max_features': 117, 'min_weight_fraction_leaf': 1.866142752354367e-07, 'max_leaf_nodes': 196}. Best is trial 91 with value: 0.7816510579257716.\n",
      "[I 2020-09-01 07:51:27,265] Trial 93 finished with value: 0.7799514394727715 and parameters: {'n_estimators': 491, 'min_samples_split': 4, 'min_samples_leaf': 1, 'criterion': 'gini', 'class_weight': 'balanced', 'max_features': 97, 'min_weight_fraction_leaf': 1.9151204537137612e-07, 'max_leaf_nodes': 190}. Best is trial 91 with value: 0.7816510579257716.\n",
      "[I 2020-09-01 08:01:16,516] Trial 94 finished with value: 0.7777662157474852 and parameters: {'n_estimators': 487, 'min_samples_split': 4, 'min_samples_leaf': 2, 'criterion': 'gini', 'class_weight': 'balanced', 'max_features': 116, 'min_weight_fraction_leaf': 1.5526573563102062e-07, 'max_leaf_nodes': 181}. Best is trial 91 with value: 0.7816510579257716.\n",
      "[I 2020-09-01 08:09:01,798] Trial 95 finished with value: 0.7789108567464447 and parameters: {'n_estimators': 513, 'min_samples_split': 3, 'min_samples_leaf': 1, 'criterion': 'gini', 'class_weight': 'balanced', 'max_features': 87, 'min_weight_fraction_leaf': 9.690798291545875e-07, 'max_leaf_nodes': 196}. Best is trial 91 with value: 0.7816510579257716.\n",
      "[I 2020-09-01 08:17:14,747] Trial 96 finished with value: 0.7813909122441901 and parameters: {'n_estimators': 468, 'min_samples_split': 4, 'min_samples_leaf': 1, 'criterion': 'gini', 'class_weight': 'balanced', 'max_features': 103, 'min_weight_fraction_leaf': 6.502246314020131e-07, 'max_leaf_nodes': 200}. Best is trial 91 with value: 0.7816510579257716.\n",
      "[I 2020-09-01 08:24:54,961] Trial 97 finished with value: 0.7784772806104753 and parameters: {'n_estimators': 457, 'min_samples_split': 4, 'min_samples_leaf': 1, 'criterion': 'gini', 'class_weight': 'balanced', 'max_features': 98, 'min_weight_fraction_leaf': 4.719789522354673e-07, 'max_leaf_nodes': 185}. Best is trial 91 with value: 0.7816510579257716.\n",
      "[I 2020-09-01 08:34:15,148] Trial 98 finished with value: 0.7540929587235519 and parameters: {'n_estimators': 525, 'min_samples_split': 4, 'min_samples_leaf': 2, 'criterion': 'gini', 'class_weight': 'balanced', 'max_features': 104, 'min_weight_fraction_leaf': 6.138551297182686e-07, 'max_leaf_nodes': 108}. Best is trial 91 with value: 0.7816510579257716.\n",
      "[I 2020-09-01 08:39:25,994] Trial 99 finished with value: 0.7732223378425253 and parameters: {'n_estimators': 472, 'min_samples_split': 5, 'min_samples_leaf': 1, 'criterion': 'entropy', 'class_weight': 'balanced', 'max_features': 53, 'min_weight_fraction_leaf': 3.8816403626024614e-07, 'max_leaf_nodes': 200}. Best is trial 91 with value: 0.7816510579257716.\n",
      "[I 2020-09-01 09:06:20,498] Trial 100 finished with value: 0.7677072493929934 and parameters: {'n_estimators': 437, 'min_samples_split': 4, 'min_samples_leaf': 1, 'criterion': 'gini', 'class_weight': 'balanced', 'max_features': 389, 'min_weight_fraction_leaf': 1.2161503945901547e-07, 'max_leaf_nodes': 191}. Best is trial 91 with value: 0.7816510579257716.\n",
      "[I 2020-09-01 09:13:33,588] Trial 101 finished with value: 0.775199445022546 and parameters: {'n_estimators': 535, 'min_samples_split': 3, 'min_samples_leaf': 8, 'criterion': 'gini', 'class_weight': 'balanced', 'max_features': 75, 'min_weight_fraction_leaf': 7.483150938273979e-07, 'max_leaf_nodes': 182}. Best is trial 91 with value: 0.7816510579257716.\n",
      "[I 2020-09-01 09:24:42,126] Trial 102 finished with value: 0.7815990287894554 and parameters: {'n_estimators': 500, 'min_samples_split': 5, 'min_samples_leaf': 1, 'criterion': 'gini', 'class_weight': 'balanced', 'max_features': 115, 'min_weight_fraction_leaf': 2.348689250736959e-07, 'max_leaf_nodes': 196}. Best is trial 91 with value: 0.7816510579257716.\n",
      "[I 2020-09-01 09:35:06,619] Trial 103 finished with value: 0.7816857440166493 and parameters: {'n_estimators': 485, 'min_samples_split': 5, 'min_samples_leaf': 1, 'criterion': 'gini', 'class_weight': 'balanced', 'max_features': 126, 'min_weight_fraction_leaf': 1.741303432823711e-07, 'max_leaf_nodes': 198}. Best is trial 103 with value: 0.7816857440166493.\n",
      "[I 2020-09-01 09:47:56,031] Trial 104 finished with value: 0.7792924037460978 and parameters: {'n_estimators': 498, 'min_samples_split': 5, 'min_samples_leaf': 1, 'criterion': 'gini', 'class_weight': 'balanced', 'max_features': 148, 'min_weight_fraction_leaf': 1.5804865808379887e-07, 'max_leaf_nodes': 189}. Best is trial 103 with value: 0.7816857440166493.\n",
      "[I 2020-09-01 09:58:26,536] Trial 105 finished with value: 0.7818244883801595 and parameters: {'n_estimators': 466, 'min_samples_split': 5, 'min_samples_leaf': 2, 'criterion': 'gini', 'class_weight': 'balanced', 'max_features': 135, 'min_weight_fraction_leaf': 2.2193985313288622e-07, 'max_leaf_nodes': 200}. Best is trial 105 with value: 0.7818244883801595.\n",
      "[I 2020-09-01 10:08:50,628] Trial 106 finished with value: 0.7812695109261186 and parameters: {'n_estimators': 466, 'min_samples_split': 5, 'min_samples_leaf': 2, 'criterion': 'gini', 'class_weight': 'balanced', 'max_features': 133, 'min_weight_fraction_leaf': 1.9649841285995364e-07, 'max_leaf_nodes': 200}. Best is trial 105 with value: 0.7818244883801595.\n",
      "[I 2020-09-01 10:19:07,544] Trial 107 finished with value: 0.7768643773846687 and parameters: {'n_estimators': 465, 'min_samples_split': 5, 'min_samples_leaf': 2, 'criterion': 'gini', 'class_weight': 'balanced', 'max_features': 133, 'min_weight_fraction_leaf': 2.021053064306715e-07, 'max_leaf_nodes': 176}. Best is trial 105 with value: 0.7818244883801595.\n",
      "[I 2020-09-01 10:28:59,471] Trial 108 finished with value: 0.7807492195629552 and parameters: {'n_estimators': 418, 'min_samples_split': 5, 'min_samples_leaf': 3, 'criterion': 'gini', 'class_weight': 'balanced', 'max_features': 143, 'min_weight_fraction_leaf': 1.0062503719984785e-07, 'max_leaf_nodes': 200}. Best is trial 105 with value: 0.7818244883801595.\n",
      "[I 2020-09-01 10:43:27,285] Trial 109 finished with value: 0.7789108567464447 and parameters: {'n_estimators': 483, 'min_samples_split': 5, 'min_samples_leaf': 2, 'criterion': 'gini', 'class_weight': 'balanced', 'max_features': 178, 'min_weight_fraction_leaf': 3.6517106285633164e-07, 'max_leaf_nodes': 192}. Best is trial 105 with value: 0.7818244883801595.\n",
      "[I 2020-09-01 10:54:58,312] Trial 110 finished with value: 0.7349288935137009 and parameters: {'n_estimators': 461, 'min_samples_split': 5, 'min_samples_leaf': 2, 'criterion': 'gini', 'class_weight': 'balanced', 'max_features': 168, 'min_weight_fraction_leaf': 2.371351491545451e-07, 'max_leaf_nodes': 65}. Best is trial 105 with value: 0.7818244883801595.\n",
      "[I 2020-09-01 11:04:52,745] Trial 111 finished with value: 0.7793097467915366 and parameters: {'n_estimators': 510, 'min_samples_split': 6, 'min_samples_leaf': 2, 'criterion': 'gini', 'class_weight': 'balanced', 'max_features': 112, 'min_weight_fraction_leaf': 0.0001485712322427341, 'max_leaf_nodes': 187}. Best is trial 105 with value: 0.7818244883801595.\n",
      "[I 2020-09-01 11:14:23,478] Trial 112 finished with value: 0.7810960804717307 and parameters: {'n_estimators': 431, 'min_samples_split': 5, 'min_samples_leaf': 2, 'criterion': 'gini', 'class_weight': 'balanced', 'max_features': 127, 'min_weight_fraction_leaf': 1.2178663432650918e-07, 'max_leaf_nodes': 197}. Best is trial 105 with value: 0.7818244883801595.\n",
      "[I 2020-09-01 11:27:55,910] Trial 113 finished with value: 0.780610475199445 and parameters: {'n_estimators': 547, 'min_samples_split': 5, 'min_samples_leaf': 3, 'criterion': 'gini', 'class_weight': 'balanced', 'max_features': 139, 'min_weight_fraction_leaf': 3.4992191151622687e-07, 'max_leaf_nodes': 197}. Best is trial 105 with value: 0.7818244883801595.\n",
      "[I 2020-09-01 11:35:52,748] Trial 114 finished with value: 0.7813562261533125 and parameters: {'n_estimators': 446, 'min_samples_split': 4, 'min_samples_leaf': 1, 'criterion': 'gini', 'class_weight': 'balanced', 'max_features': 103, 'min_weight_fraction_leaf': 1.6445499380069564e-07, 'max_leaf_nodes': 199}. Best is trial 105 with value: 0.7818244883801595.\n",
      "[I 2020-09-01 11:43:00,802] Trial 115 finished with value: 0.7793444328824142 and parameters: {'n_estimators': 451, 'min_samples_split': 4, 'min_samples_leaf': 1, 'criterion': 'gini', 'class_weight': 'balanced', 'max_features': 86, 'min_weight_fraction_leaf': 1.949606033853469e-07, 'max_leaf_nodes': 200}. Best is trial 105 with value: 0.7818244883801595.\n",
      "[I 2020-09-01 11:51:54,490] Trial 116 finished with value: 0.7799687825182102 and parameters: {'n_estimators': 480, 'min_samples_split': 4, 'min_samples_leaf': 2, 'criterion': 'gini', 'class_weight': 'balanced', 'max_features': 106, 'min_weight_fraction_leaf': 0.0002751358482066162, 'max_leaf_nodes': 192}. Best is trial 105 with value: 0.7818244883801595.\n",
      "[I 2020-09-01 11:56:59,905] Trial 117 finished with value: 0.6530350329517863 and parameters: {'n_estimators': 395, 'min_samples_split': 5, 'min_samples_leaf': 1, 'criterion': 'gini', 'class_weight': 'balanced', 'max_features': 131, 'min_weight_fraction_leaf': 0.045565151134744075, 'max_leaf_nodes': 184}. Best is trial 105 with value: 0.7818244883801595.\n",
      "[I 2020-09-01 12:08:28,307] Trial 118 finished with value: 0.7813735691987512 and parameters: {'n_estimators': 441, 'min_samples_split': 4, 'min_samples_leaf': 2, 'criterion': 'gini', 'class_weight': 'balanced', 'max_features': 148, 'min_weight_fraction_leaf': 5.524128471855194e-07, 'max_leaf_nodes': 200}. Best is trial 105 with value: 0.7818244883801595.\n",
      "[I 2020-09-01 12:16:37,201] Trial 119 finished with value: 0.6905480402358654 and parameters: {'n_estimators': 409, 'min_samples_split': 6, 'min_samples_leaf': 3, 'criterion': 'gini', 'class_weight': 'balanced', 'max_features': 150, 'min_weight_fraction_leaf': 5.746219464037143e-07, 'max_leaf_nodes': 24}. Best is trial 105 with value: 0.7818244883801595.\n",
      "[I 2020-09-01 12:28:25,511] Trial 120 finished with value: 0.7803850156087409 and parameters: {'n_estimators': 441, 'min_samples_split': 4, 'min_samples_leaf': 2, 'criterion': 'gini', 'class_weight': 'balanced', 'max_features': 157, 'min_weight_fraction_leaf': 8.943574981233798e-07, 'max_leaf_nodes': 200}. Best is trial 105 with value: 0.7818244883801595.\n",
      "[I 2020-09-01 12:38:53,282] Trial 121 finished with value: 0.7798126951092611 and parameters: {'n_estimators': 474, 'min_samples_split': 5, 'min_samples_leaf': 2, 'criterion': 'gini', 'class_weight': 'balanced', 'max_features': 126, 'min_weight_fraction_leaf': 2.833791331809491e-07, 'max_leaf_nodes': 190}. Best is trial 105 with value: 0.7818244883801595.\n",
      "[I 2020-09-01 12:50:37,990] Trial 122 finished with value: 0.7810093652445369 and parameters: {'n_estimators': 494, 'min_samples_split': 4, 'min_samples_leaf': 1, 'criterion': 'gini', 'class_weight': 'balanced', 'max_features': 138, 'min_weight_fraction_leaf': 4.2828982808879355e-07, 'max_leaf_nodes': 194}. Best is trial 105 with value: 0.7818244883801595.\n",
      "[I 2020-09-01 13:00:52,117] Trial 123 finished with value: 0.7815123135622615 and parameters: {'n_estimators': 520, 'min_samples_split': 4, 'min_samples_leaf': 2, 'criterion': 'gini', 'class_weight': 'balanced', 'max_features': 112, 'min_weight_fraction_leaf': 1.6629060987676312e-07, 'max_leaf_nodes': 196}. Best is trial 105 with value: 0.7818244883801595.\n",
      "[I 2020-09-01 13:08:38,273] Trial 124 finished with value: 0.781078737426292 and parameters: {'n_estimators': 428, 'min_samples_split': 4, 'min_samples_leaf': 3, 'criterion': 'gini', 'class_weight': 'balanced', 'max_features': 105, 'min_weight_fraction_leaf': 1.0201204708363926e-07, 'max_leaf_nodes': 200}. Best is trial 105 with value: 0.7818244883801595.\n",
      "[I 2020-09-01 13:19:49,297] Trial 125 finished with value: 0.7804370447450572 and parameters: {'n_estimators': 527, 'min_samples_split': 5, 'min_samples_leaf': 2, 'criterion': 'gini', 'class_weight': 'balanced', 'max_features': 125, 'min_weight_fraction_leaf': 1.2883718824826144e-07, 'max_leaf_nodes': 189}. Best is trial 105 with value: 0.7818244883801595.\n",
      "[I 2020-09-01 13:28:42,644] Trial 126 finished with value: 0.781703087062088 and parameters: {'n_estimators': 448, 'min_samples_split': 4, 'min_samples_leaf': 2, 'criterion': 'gini', 'class_weight': 'balanced', 'max_features': 112, 'min_weight_fraction_leaf': 2.559645208285193e-07, 'max_leaf_nodes': 200}. Best is trial 105 with value: 0.7818244883801595.\n",
      "[I 2020-09-01 13:39:48,821] Trial 127 finished with value: 0.7812348248352411 and parameters: {'n_estimators': 464, 'min_samples_split': 4, 'min_samples_leaf': 2, 'criterion': 'gini', 'class_weight': 'balanced', 'max_features': 145, 'min_weight_fraction_leaf': 6.044459923628344e-07, 'max_leaf_nodes': 200}. Best is trial 105 with value: 0.7818244883801595.\n",
      "[I 2020-09-01 13:52:02,953] Trial 128 finished with value: 0.7737426292056886 and parameters: {'n_estimators': 446, 'min_samples_split': 4, 'min_samples_leaf': 2, 'criterion': 'entropy', 'class_weight': 'balanced', 'max_features': 163, 'min_weight_fraction_leaf': 2.367194224493913e-07, 'max_leaf_nodes': 193}. Best is trial 105 with value: 0.7818244883801595.\n",
      "[I 2020-09-01 14:01:54,218] Trial 129 finished with value: 0.7789975719736386 and parameters: {'n_estimators': 515, 'min_samples_split': 4, 'min_samples_leaf': 3, 'criterion': 'gini', 'class_weight': 'balanced', 'max_features': 112, 'min_weight_fraction_leaf': 3.442476008823619e-07, 'max_leaf_nodes': 185}. Best is trial 105 with value: 0.7818244883801595.\n",
      "[I 2020-09-01 14:08:14,325] Trial 130 finished with value: 0.7806104751994452 and parameters: {'n_estimators': 380, 'min_samples_split': 4, 'min_samples_leaf': 2, 'criterion': 'gini', 'class_weight': 'balanced', 'max_features': 93, 'min_weight_fraction_leaf': 1.6020191036023608e-07, 'max_leaf_nodes': 200}. Best is trial 105 with value: 0.7818244883801595.\n",
      "[I 2020-09-01 14:17:44,938] Trial 131 finished with value: 0.7795698924731183 and parameters: {'n_estimators': 419, 'min_samples_split': 5, 'min_samples_leaf': 2, 'criterion': 'gini', 'class_weight': 'balanced', 'max_features': 138, 'min_weight_fraction_leaf': 0.0005558935431044062, 'max_leaf_nodes': 197}. Best is trial 105 with value: 0.7818244883801595.\n",
      "[I 2020-09-01 14:29:05,942] Trial 132 finished with value: 0.7816163718348942 and parameters: {'n_estimators': 462, 'min_samples_split': 4, 'min_samples_leaf': 2, 'criterion': 'gini', 'class_weight': 'balanced', 'max_features': 145, 'min_weight_fraction_leaf': 5.158845530017444e-07, 'max_leaf_nodes': 200}. Best is trial 105 with value: 0.7818244883801595.\n",
      "[I 2020-09-01 14:41:36,767] Trial 133 finished with value: 0.7795005202913632 and parameters: {'n_estimators': 481, 'min_samples_split': 4, 'min_samples_leaf': 2, 'criterion': 'gini', 'class_weight': 'balanced', 'max_features': 152, 'min_weight_fraction_leaf': 1.3022301181228733e-06, 'max_leaf_nodes': 191}. Best is trial 105 with value: 0.7818244883801595.\n",
      "[I 2020-09-01 14:51:04,234] Trial 134 finished with value: 0.766094346167187 and parameters: {'n_estimators': 455, 'min_samples_split': 4, 'min_samples_leaf': 2, 'criterion': 'gini', 'class_weight': 'balanced', 'max_features': 127, 'min_weight_fraction_leaf': 7.435916787350315e-07, 'max_leaf_nodes': 133}. Best is trial 105 with value: 0.7818244883801595.\n"
     ]
    },
    {
     "name": "stderr",
     "output_type": "stream",
     "text": [
      "[I 2020-09-01 15:02:36,579] Trial 135 finished with value: 0.7813388831078738 and parameters: {'n_estimators': 503, 'min_samples_split': 4, 'min_samples_leaf': 3, 'criterion': 'gini', 'class_weight': 'balanced', 'max_features': 134, 'min_weight_fraction_leaf': 4.998202388057768e-07, 'max_leaf_nodes': 200}. Best is trial 105 with value: 0.7818244883801595.\n",
      "[I 2020-09-01 15:11:27,719] Trial 136 finished with value: 0.7803676725633021 and parameters: {'n_estimators': 501, 'min_samples_split': 4, 'min_samples_leaf': 3, 'criterion': 'gini', 'class_weight': 'balanced', 'max_features': 101, 'min_weight_fraction_leaf': 5.141542246408138e-07, 'max_leaf_nodes': 194}. Best is trial 105 with value: 0.7818244883801595.\n",
      "[I 2020-09-01 15:27:56,333] Trial 137 finished with value: 0.7790842872008326 and parameters: {'n_estimators': 520, 'min_samples_split': 4, 'min_samples_leaf': 3, 'criterion': 'gini', 'class_weight': 'balanced', 'max_features': 182, 'min_weight_fraction_leaf': 1.0994821429323673e-06, 'max_leaf_nodes': 197}. Best is trial 105 with value: 0.7818244883801595.\n",
      "[I 2020-09-01 15:36:45,394] Trial 138 finished with value: 0.7787027402011792 and parameters: {'n_estimators': 441, 'min_samples_split': 4, 'min_samples_leaf': 2, 'criterion': 'gini', 'class_weight': 'balanced', 'max_features': 111, 'min_weight_fraction_leaf': 0.00019828071168458326, 'max_leaf_nodes': 187}. Best is trial 105 with value: 0.7818244883801595.\n"
     ]
    },
    {
     "ename": "KeyboardInterrupt",
     "evalue": "",
     "output_type": "error",
     "traceback": [
      "\u001b[1;31m---------------------------------------------------------------------------\u001b[0m",
      "\u001b[1;31mKeyboardInterrupt\u001b[0m                         Traceback (most recent call last)",
      "\u001b[1;32m<ipython-input-33-69dab1bd53c2>\u001b[0m in \u001b[0;36m<module>\u001b[1;34m\u001b[0m\n\u001b[0;32m     26\u001b[0m \u001b[1;33m\u001b[0m\u001b[0m\n\u001b[0;32m     27\u001b[0m \u001b[1;31m#rfc_study = optuna.create_study(direction='maximize')\u001b[0m\u001b[1;33m\u001b[0m\u001b[1;33m\u001b[0m\u001b[1;33m\u001b[0m\u001b[0m\n\u001b[1;32m---> 28\u001b[1;33m \u001b[0mrfc_study\u001b[0m\u001b[1;33m.\u001b[0m\u001b[0moptimize\u001b[0m\u001b[1;33m(\u001b[0m\u001b[0mfind_hyperparam_rf\u001b[0m\u001b[1;33m,\u001b[0m \u001b[0mn_trials\u001b[0m \u001b[1;33m=\u001b[0m \u001b[1;36m200\u001b[0m\u001b[1;33m)\u001b[0m\u001b[1;33m\u001b[0m\u001b[1;33m\u001b[0m\u001b[0m\n\u001b[0m",
      "\u001b[1;32mD:\\ProgramData\\Anaconda3\\lib\\site-packages\\optuna\\study.py\u001b[0m in \u001b[0;36moptimize\u001b[1;34m(self, func, n_trials, timeout, n_jobs, catch, callbacks, gc_after_trial, show_progress_bar)\u001b[0m\n\u001b[0;32m    289\u001b[0m         \u001b[1;32mtry\u001b[0m\u001b[1;33m:\u001b[0m\u001b[1;33m\u001b[0m\u001b[1;33m\u001b[0m\u001b[0m\n\u001b[0;32m    290\u001b[0m             \u001b[1;32mif\u001b[0m \u001b[0mn_jobs\u001b[0m \u001b[1;33m==\u001b[0m \u001b[1;36m1\u001b[0m\u001b[1;33m:\u001b[0m\u001b[1;33m\u001b[0m\u001b[1;33m\u001b[0m\u001b[0m\n\u001b[1;32m--> 291\u001b[1;33m                 self._optimize_sequential(\n\u001b[0m\u001b[0;32m    292\u001b[0m                     \u001b[0mfunc\u001b[0m\u001b[1;33m,\u001b[0m \u001b[0mn_trials\u001b[0m\u001b[1;33m,\u001b[0m \u001b[0mtimeout\u001b[0m\u001b[1;33m,\u001b[0m \u001b[0mcatch\u001b[0m\u001b[1;33m,\u001b[0m \u001b[0mcallbacks\u001b[0m\u001b[1;33m,\u001b[0m \u001b[0mgc_after_trial\u001b[0m\u001b[1;33m,\u001b[0m \u001b[1;32mNone\u001b[0m\u001b[1;33m\u001b[0m\u001b[1;33m\u001b[0m\u001b[0m\n\u001b[0;32m    293\u001b[0m                 )\n",
      "\u001b[1;32mD:\\ProgramData\\Anaconda3\\lib\\site-packages\\optuna\\study.py\u001b[0m in \u001b[0;36m_optimize_sequential\u001b[1;34m(self, func, n_trials, timeout, catch, callbacks, gc_after_trial, time_start)\u001b[0m\n\u001b[0;32m    652\u001b[0m                     \u001b[1;32mbreak\u001b[0m\u001b[1;33m\u001b[0m\u001b[1;33m\u001b[0m\u001b[0m\n\u001b[0;32m    653\u001b[0m \u001b[1;33m\u001b[0m\u001b[0m\n\u001b[1;32m--> 654\u001b[1;33m             \u001b[0mself\u001b[0m\u001b[1;33m.\u001b[0m\u001b[0m_run_trial_and_callbacks\u001b[0m\u001b[1;33m(\u001b[0m\u001b[0mfunc\u001b[0m\u001b[1;33m,\u001b[0m \u001b[0mcatch\u001b[0m\u001b[1;33m,\u001b[0m \u001b[0mcallbacks\u001b[0m\u001b[1;33m,\u001b[0m \u001b[0mgc_after_trial\u001b[0m\u001b[1;33m)\u001b[0m\u001b[1;33m\u001b[0m\u001b[1;33m\u001b[0m\u001b[0m\n\u001b[0m\u001b[0;32m    655\u001b[0m \u001b[1;33m\u001b[0m\u001b[0m\n\u001b[0;32m    656\u001b[0m             \u001b[0mself\u001b[0m\u001b[1;33m.\u001b[0m\u001b[0m_progress_bar\u001b[0m\u001b[1;33m.\u001b[0m\u001b[0mupdate\u001b[0m\u001b[1;33m(\u001b[0m\u001b[1;33m(\u001b[0m\u001b[0mdatetime\u001b[0m\u001b[1;33m.\u001b[0m\u001b[0mdatetime\u001b[0m\u001b[1;33m.\u001b[0m\u001b[0mnow\u001b[0m\u001b[1;33m(\u001b[0m\u001b[1;33m)\u001b[0m \u001b[1;33m-\u001b[0m \u001b[0mtime_start\u001b[0m\u001b[1;33m)\u001b[0m\u001b[1;33m.\u001b[0m\u001b[0mtotal_seconds\u001b[0m\u001b[1;33m(\u001b[0m\u001b[1;33m)\u001b[0m\u001b[1;33m)\u001b[0m\u001b[1;33m\u001b[0m\u001b[1;33m\u001b[0m\u001b[0m\n",
      "\u001b[1;32mD:\\ProgramData\\Anaconda3\\lib\\site-packages\\optuna\\study.py\u001b[0m in \u001b[0;36m_run_trial_and_callbacks\u001b[1;34m(self, func, catch, callbacks, gc_after_trial)\u001b[0m\n\u001b[0;32m    683\u001b[0m         \u001b[1;31m# type: (...) -> None\u001b[0m\u001b[1;33m\u001b[0m\u001b[1;33m\u001b[0m\u001b[1;33m\u001b[0m\u001b[0m\n\u001b[0;32m    684\u001b[0m \u001b[1;33m\u001b[0m\u001b[0m\n\u001b[1;32m--> 685\u001b[1;33m         \u001b[0mtrial\u001b[0m \u001b[1;33m=\u001b[0m \u001b[0mself\u001b[0m\u001b[1;33m.\u001b[0m\u001b[0m_run_trial\u001b[0m\u001b[1;33m(\u001b[0m\u001b[0mfunc\u001b[0m\u001b[1;33m,\u001b[0m \u001b[0mcatch\u001b[0m\u001b[1;33m,\u001b[0m \u001b[0mgc_after_trial\u001b[0m\u001b[1;33m)\u001b[0m\u001b[1;33m\u001b[0m\u001b[1;33m\u001b[0m\u001b[0m\n\u001b[0m\u001b[0;32m    686\u001b[0m         \u001b[1;32mif\u001b[0m \u001b[0mcallbacks\u001b[0m \u001b[1;32mis\u001b[0m \u001b[1;32mnot\u001b[0m \u001b[1;32mNone\u001b[0m\u001b[1;33m:\u001b[0m\u001b[1;33m\u001b[0m\u001b[1;33m\u001b[0m\u001b[0m\n\u001b[0;32m    687\u001b[0m             \u001b[0mfrozen_trial\u001b[0m \u001b[1;33m=\u001b[0m \u001b[0mcopy\u001b[0m\u001b[1;33m.\u001b[0m\u001b[0mdeepcopy\u001b[0m\u001b[1;33m(\u001b[0m\u001b[0mself\u001b[0m\u001b[1;33m.\u001b[0m\u001b[0m_storage\u001b[0m\u001b[1;33m.\u001b[0m\u001b[0mget_trial\u001b[0m\u001b[1;33m(\u001b[0m\u001b[0mtrial\u001b[0m\u001b[1;33m.\u001b[0m\u001b[0m_trial_id\u001b[0m\u001b[1;33m)\u001b[0m\u001b[1;33m)\u001b[0m\u001b[1;33m\u001b[0m\u001b[1;33m\u001b[0m\u001b[0m\n",
      "\u001b[1;32mD:\\ProgramData\\Anaconda3\\lib\\site-packages\\optuna\\study.py\u001b[0m in \u001b[0;36m_run_trial\u001b[1;34m(self, func, catch, gc_after_trial)\u001b[0m\n\u001b[0;32m    707\u001b[0m \u001b[1;33m\u001b[0m\u001b[0m\n\u001b[0;32m    708\u001b[0m         \u001b[1;32mtry\u001b[0m\u001b[1;33m:\u001b[0m\u001b[1;33m\u001b[0m\u001b[1;33m\u001b[0m\u001b[0m\n\u001b[1;32m--> 709\u001b[1;33m             \u001b[0mresult\u001b[0m \u001b[1;33m=\u001b[0m \u001b[0mfunc\u001b[0m\u001b[1;33m(\u001b[0m\u001b[0mtrial\u001b[0m\u001b[1;33m)\u001b[0m\u001b[1;33m\u001b[0m\u001b[1;33m\u001b[0m\u001b[0m\n\u001b[0m\u001b[0;32m    710\u001b[0m         \u001b[1;32mexcept\u001b[0m \u001b[0mexceptions\u001b[0m\u001b[1;33m.\u001b[0m\u001b[0mTrialPruned\u001b[0m \u001b[1;32mas\u001b[0m \u001b[0me\u001b[0m\u001b[1;33m:\u001b[0m\u001b[1;33m\u001b[0m\u001b[1;33m\u001b[0m\u001b[0m\n\u001b[0;32m    711\u001b[0m             \u001b[0mmessage\u001b[0m \u001b[1;33m=\u001b[0m \u001b[1;34m\"Trial {} pruned. {}\"\u001b[0m\u001b[1;33m.\u001b[0m\u001b[0mformat\u001b[0m\u001b[1;33m(\u001b[0m\u001b[0mtrial_number\u001b[0m\u001b[1;33m,\u001b[0m \u001b[0mstr\u001b[0m\u001b[1;33m(\u001b[0m\u001b[0me\u001b[0m\u001b[1;33m)\u001b[0m\u001b[1;33m)\u001b[0m\u001b[1;33m\u001b[0m\u001b[1;33m\u001b[0m\u001b[0m\n",
      "\u001b[1;32m<ipython-input-33-69dab1bd53c2>\u001b[0m in \u001b[0;36mfind_hyperparam_rf\u001b[1;34m(trial)\u001b[0m\n\u001b[0;32m     21\u001b[0m                                 )\n\u001b[0;32m     22\u001b[0m     \u001b[0mcv\u001b[0m \u001b[1;33m=\u001b[0m \u001b[0mKFold\u001b[0m\u001b[1;33m(\u001b[0m\u001b[0mn_splits\u001b[0m \u001b[1;33m=\u001b[0m \u001b[1;36m5\u001b[0m\u001b[1;33m,\u001b[0m \u001b[0mshuffle\u001b[0m \u001b[1;33m=\u001b[0m \u001b[1;32mTrue\u001b[0m\u001b[1;33m,\u001b[0m \u001b[0mrandom_state\u001b[0m \u001b[1;33m=\u001b[0m \u001b[1;36m20\u001b[0m\u001b[1;33m)\u001b[0m\u001b[1;33m\u001b[0m\u001b[1;33m\u001b[0m\u001b[0m\n\u001b[1;32m---> 23\u001b[1;33m     score = np.mean(cross_val_score(rfc, X_train, y_train,\n\u001b[0m\u001b[0;32m     24\u001b[0m                                     scoring = 'accuracy', cv = cv, n_jobs = -1))\n\u001b[0;32m     25\u001b[0m     \u001b[1;32mreturn\u001b[0m \u001b[1;33m(\u001b[0m\u001b[0mscore\u001b[0m\u001b[1;33m)\u001b[0m\u001b[1;33m\u001b[0m\u001b[1;33m\u001b[0m\u001b[0m\n",
      "\u001b[1;32mD:\\ProgramData\\Anaconda3\\lib\\site-packages\\sklearn\\utils\\validation.py\u001b[0m in \u001b[0;36minner_f\u001b[1;34m(*args, **kwargs)\u001b[0m\n\u001b[0;32m     70\u001b[0m                           FutureWarning)\n\u001b[0;32m     71\u001b[0m         \u001b[0mkwargs\u001b[0m\u001b[1;33m.\u001b[0m\u001b[0mupdate\u001b[0m\u001b[1;33m(\u001b[0m\u001b[1;33m{\u001b[0m\u001b[0mk\u001b[0m\u001b[1;33m:\u001b[0m \u001b[0marg\u001b[0m \u001b[1;32mfor\u001b[0m \u001b[0mk\u001b[0m\u001b[1;33m,\u001b[0m \u001b[0marg\u001b[0m \u001b[1;32min\u001b[0m \u001b[0mzip\u001b[0m\u001b[1;33m(\u001b[0m\u001b[0msig\u001b[0m\u001b[1;33m.\u001b[0m\u001b[0mparameters\u001b[0m\u001b[1;33m,\u001b[0m \u001b[0margs\u001b[0m\u001b[1;33m)\u001b[0m\u001b[1;33m}\u001b[0m\u001b[1;33m)\u001b[0m\u001b[1;33m\u001b[0m\u001b[1;33m\u001b[0m\u001b[0m\n\u001b[1;32m---> 72\u001b[1;33m         \u001b[1;32mreturn\u001b[0m \u001b[0mf\u001b[0m\u001b[1;33m(\u001b[0m\u001b[1;33m**\u001b[0m\u001b[0mkwargs\u001b[0m\u001b[1;33m)\u001b[0m\u001b[1;33m\u001b[0m\u001b[1;33m\u001b[0m\u001b[0m\n\u001b[0m\u001b[0;32m     73\u001b[0m     \u001b[1;32mreturn\u001b[0m \u001b[0minner_f\u001b[0m\u001b[1;33m\u001b[0m\u001b[1;33m\u001b[0m\u001b[0m\n\u001b[0;32m     74\u001b[0m \u001b[1;33m\u001b[0m\u001b[0m\n",
      "\u001b[1;32mD:\\ProgramData\\Anaconda3\\lib\\site-packages\\sklearn\\model_selection\\_validation.py\u001b[0m in \u001b[0;36mcross_val_score\u001b[1;34m(estimator, X, y, groups, scoring, cv, n_jobs, verbose, fit_params, pre_dispatch, error_score)\u001b[0m\n\u001b[0;32m    399\u001b[0m     \u001b[0mscorer\u001b[0m \u001b[1;33m=\u001b[0m \u001b[0mcheck_scoring\u001b[0m\u001b[1;33m(\u001b[0m\u001b[0mestimator\u001b[0m\u001b[1;33m,\u001b[0m \u001b[0mscoring\u001b[0m\u001b[1;33m=\u001b[0m\u001b[0mscoring\u001b[0m\u001b[1;33m)\u001b[0m\u001b[1;33m\u001b[0m\u001b[1;33m\u001b[0m\u001b[0m\n\u001b[0;32m    400\u001b[0m \u001b[1;33m\u001b[0m\u001b[0m\n\u001b[1;32m--> 401\u001b[1;33m     cv_results = cross_validate(estimator=estimator, X=X, y=y, groups=groups,\n\u001b[0m\u001b[0;32m    402\u001b[0m                                 \u001b[0mscoring\u001b[0m\u001b[1;33m=\u001b[0m\u001b[1;33m{\u001b[0m\u001b[1;34m'score'\u001b[0m\u001b[1;33m:\u001b[0m \u001b[0mscorer\u001b[0m\u001b[1;33m}\u001b[0m\u001b[1;33m,\u001b[0m \u001b[0mcv\u001b[0m\u001b[1;33m=\u001b[0m\u001b[0mcv\u001b[0m\u001b[1;33m,\u001b[0m\u001b[1;33m\u001b[0m\u001b[1;33m\u001b[0m\u001b[0m\n\u001b[0;32m    403\u001b[0m                                 \u001b[0mn_jobs\u001b[0m\u001b[1;33m=\u001b[0m\u001b[0mn_jobs\u001b[0m\u001b[1;33m,\u001b[0m \u001b[0mverbose\u001b[0m\u001b[1;33m=\u001b[0m\u001b[0mverbose\u001b[0m\u001b[1;33m,\u001b[0m\u001b[1;33m\u001b[0m\u001b[1;33m\u001b[0m\u001b[0m\n",
      "\u001b[1;32mD:\\ProgramData\\Anaconda3\\lib\\site-packages\\sklearn\\utils\\validation.py\u001b[0m in \u001b[0;36minner_f\u001b[1;34m(*args, **kwargs)\u001b[0m\n\u001b[0;32m     70\u001b[0m                           FutureWarning)\n\u001b[0;32m     71\u001b[0m         \u001b[0mkwargs\u001b[0m\u001b[1;33m.\u001b[0m\u001b[0mupdate\u001b[0m\u001b[1;33m(\u001b[0m\u001b[1;33m{\u001b[0m\u001b[0mk\u001b[0m\u001b[1;33m:\u001b[0m \u001b[0marg\u001b[0m \u001b[1;32mfor\u001b[0m \u001b[0mk\u001b[0m\u001b[1;33m,\u001b[0m \u001b[0marg\u001b[0m \u001b[1;32min\u001b[0m \u001b[0mzip\u001b[0m\u001b[1;33m(\u001b[0m\u001b[0msig\u001b[0m\u001b[1;33m.\u001b[0m\u001b[0mparameters\u001b[0m\u001b[1;33m,\u001b[0m \u001b[0margs\u001b[0m\u001b[1;33m)\u001b[0m\u001b[1;33m}\u001b[0m\u001b[1;33m)\u001b[0m\u001b[1;33m\u001b[0m\u001b[1;33m\u001b[0m\u001b[0m\n\u001b[1;32m---> 72\u001b[1;33m         \u001b[1;32mreturn\u001b[0m \u001b[0mf\u001b[0m\u001b[1;33m(\u001b[0m\u001b[1;33m**\u001b[0m\u001b[0mkwargs\u001b[0m\u001b[1;33m)\u001b[0m\u001b[1;33m\u001b[0m\u001b[1;33m\u001b[0m\u001b[0m\n\u001b[0m\u001b[0;32m     73\u001b[0m     \u001b[1;32mreturn\u001b[0m \u001b[0minner_f\u001b[0m\u001b[1;33m\u001b[0m\u001b[1;33m\u001b[0m\u001b[0m\n\u001b[0;32m     74\u001b[0m \u001b[1;33m\u001b[0m\u001b[0m\n",
      "\u001b[1;32mD:\\ProgramData\\Anaconda3\\lib\\site-packages\\sklearn\\model_selection\\_validation.py\u001b[0m in \u001b[0;36mcross_validate\u001b[1;34m(estimator, X, y, groups, scoring, cv, n_jobs, verbose, fit_params, pre_dispatch, return_train_score, return_estimator, error_score)\u001b[0m\n\u001b[0;32m    240\u001b[0m     parallel = Parallel(n_jobs=n_jobs, verbose=verbose,\n\u001b[0;32m    241\u001b[0m                         pre_dispatch=pre_dispatch)\n\u001b[1;32m--> 242\u001b[1;33m     scores = parallel(\n\u001b[0m\u001b[0;32m    243\u001b[0m         delayed(_fit_and_score)(\n\u001b[0;32m    244\u001b[0m             \u001b[0mclone\u001b[0m\u001b[1;33m(\u001b[0m\u001b[0mestimator\u001b[0m\u001b[1;33m)\u001b[0m\u001b[1;33m,\u001b[0m \u001b[0mX\u001b[0m\u001b[1;33m,\u001b[0m \u001b[0my\u001b[0m\u001b[1;33m,\u001b[0m \u001b[0mscorers\u001b[0m\u001b[1;33m,\u001b[0m \u001b[0mtrain\u001b[0m\u001b[1;33m,\u001b[0m \u001b[0mtest\u001b[0m\u001b[1;33m,\u001b[0m \u001b[0mverbose\u001b[0m\u001b[1;33m,\u001b[0m \u001b[1;32mNone\u001b[0m\u001b[1;33m,\u001b[0m\u001b[1;33m\u001b[0m\u001b[1;33m\u001b[0m\u001b[0m\n",
      "\u001b[1;32mD:\\ProgramData\\Anaconda3\\lib\\site-packages\\joblib\\parallel.py\u001b[0m in \u001b[0;36m__call__\u001b[1;34m(self, iterable)\u001b[0m\n\u001b[0;32m   1040\u001b[0m \u001b[1;33m\u001b[0m\u001b[0m\n\u001b[0;32m   1041\u001b[0m             \u001b[1;32mwith\u001b[0m \u001b[0mself\u001b[0m\u001b[1;33m.\u001b[0m\u001b[0m_backend\u001b[0m\u001b[1;33m.\u001b[0m\u001b[0mretrieval_context\u001b[0m\u001b[1;33m(\u001b[0m\u001b[1;33m)\u001b[0m\u001b[1;33m:\u001b[0m\u001b[1;33m\u001b[0m\u001b[1;33m\u001b[0m\u001b[0m\n\u001b[1;32m-> 1042\u001b[1;33m                 \u001b[0mself\u001b[0m\u001b[1;33m.\u001b[0m\u001b[0mretrieve\u001b[0m\u001b[1;33m(\u001b[0m\u001b[1;33m)\u001b[0m\u001b[1;33m\u001b[0m\u001b[1;33m\u001b[0m\u001b[0m\n\u001b[0m\u001b[0;32m   1043\u001b[0m             \u001b[1;31m# Make sure that we get a last message telling us we are done\u001b[0m\u001b[1;33m\u001b[0m\u001b[1;33m\u001b[0m\u001b[1;33m\u001b[0m\u001b[0m\n\u001b[0;32m   1044\u001b[0m             \u001b[0melapsed_time\u001b[0m \u001b[1;33m=\u001b[0m \u001b[0mtime\u001b[0m\u001b[1;33m.\u001b[0m\u001b[0mtime\u001b[0m\u001b[1;33m(\u001b[0m\u001b[1;33m)\u001b[0m \u001b[1;33m-\u001b[0m \u001b[0mself\u001b[0m\u001b[1;33m.\u001b[0m\u001b[0m_start_time\u001b[0m\u001b[1;33m\u001b[0m\u001b[1;33m\u001b[0m\u001b[0m\n",
      "\u001b[1;32mD:\\ProgramData\\Anaconda3\\lib\\site-packages\\joblib\\parallel.py\u001b[0m in \u001b[0;36mretrieve\u001b[1;34m(self)\u001b[0m\n\u001b[0;32m    919\u001b[0m             \u001b[1;32mtry\u001b[0m\u001b[1;33m:\u001b[0m\u001b[1;33m\u001b[0m\u001b[1;33m\u001b[0m\u001b[0m\n\u001b[0;32m    920\u001b[0m                 \u001b[1;32mif\u001b[0m \u001b[0mgetattr\u001b[0m\u001b[1;33m(\u001b[0m\u001b[0mself\u001b[0m\u001b[1;33m.\u001b[0m\u001b[0m_backend\u001b[0m\u001b[1;33m,\u001b[0m \u001b[1;34m'supports_timeout'\u001b[0m\u001b[1;33m,\u001b[0m \u001b[1;32mFalse\u001b[0m\u001b[1;33m)\u001b[0m\u001b[1;33m:\u001b[0m\u001b[1;33m\u001b[0m\u001b[1;33m\u001b[0m\u001b[0m\n\u001b[1;32m--> 921\u001b[1;33m                     \u001b[0mself\u001b[0m\u001b[1;33m.\u001b[0m\u001b[0m_output\u001b[0m\u001b[1;33m.\u001b[0m\u001b[0mextend\u001b[0m\u001b[1;33m(\u001b[0m\u001b[0mjob\u001b[0m\u001b[1;33m.\u001b[0m\u001b[0mget\u001b[0m\u001b[1;33m(\u001b[0m\u001b[0mtimeout\u001b[0m\u001b[1;33m=\u001b[0m\u001b[0mself\u001b[0m\u001b[1;33m.\u001b[0m\u001b[0mtimeout\u001b[0m\u001b[1;33m)\u001b[0m\u001b[1;33m)\u001b[0m\u001b[1;33m\u001b[0m\u001b[1;33m\u001b[0m\u001b[0m\n\u001b[0m\u001b[0;32m    922\u001b[0m                 \u001b[1;32melse\u001b[0m\u001b[1;33m:\u001b[0m\u001b[1;33m\u001b[0m\u001b[1;33m\u001b[0m\u001b[0m\n\u001b[0;32m    923\u001b[0m                     \u001b[0mself\u001b[0m\u001b[1;33m.\u001b[0m\u001b[0m_output\u001b[0m\u001b[1;33m.\u001b[0m\u001b[0mextend\u001b[0m\u001b[1;33m(\u001b[0m\u001b[0mjob\u001b[0m\u001b[1;33m.\u001b[0m\u001b[0mget\u001b[0m\u001b[1;33m(\u001b[0m\u001b[1;33m)\u001b[0m\u001b[1;33m)\u001b[0m\u001b[1;33m\u001b[0m\u001b[1;33m\u001b[0m\u001b[0m\n",
      "\u001b[1;32mD:\\ProgramData\\Anaconda3\\lib\\site-packages\\joblib\\_parallel_backends.py\u001b[0m in \u001b[0;36mwrap_future_result\u001b[1;34m(future, timeout)\u001b[0m\n\u001b[0;32m    540\u001b[0m         AsyncResults.get from multiprocessing.\"\"\"\n\u001b[0;32m    541\u001b[0m         \u001b[1;32mtry\u001b[0m\u001b[1;33m:\u001b[0m\u001b[1;33m\u001b[0m\u001b[1;33m\u001b[0m\u001b[0m\n\u001b[1;32m--> 542\u001b[1;33m             \u001b[1;32mreturn\u001b[0m \u001b[0mfuture\u001b[0m\u001b[1;33m.\u001b[0m\u001b[0mresult\u001b[0m\u001b[1;33m(\u001b[0m\u001b[0mtimeout\u001b[0m\u001b[1;33m=\u001b[0m\u001b[0mtimeout\u001b[0m\u001b[1;33m)\u001b[0m\u001b[1;33m\u001b[0m\u001b[1;33m\u001b[0m\u001b[0m\n\u001b[0m\u001b[0;32m    543\u001b[0m         \u001b[1;32mexcept\u001b[0m \u001b[0mCfTimeoutError\u001b[0m \u001b[1;32mas\u001b[0m \u001b[0me\u001b[0m\u001b[1;33m:\u001b[0m\u001b[1;33m\u001b[0m\u001b[1;33m\u001b[0m\u001b[0m\n\u001b[0;32m    544\u001b[0m             \u001b[1;32mraise\u001b[0m \u001b[0mTimeoutError\u001b[0m \u001b[1;32mfrom\u001b[0m \u001b[0me\u001b[0m\u001b[1;33m\u001b[0m\u001b[1;33m\u001b[0m\u001b[0m\n",
      "\u001b[1;32mD:\\ProgramData\\Anaconda3\\lib\\concurrent\\futures\\_base.py\u001b[0m in \u001b[0;36mresult\u001b[1;34m(self, timeout)\u001b[0m\n\u001b[0;32m    432\u001b[0m                 \u001b[1;32mreturn\u001b[0m \u001b[0mself\u001b[0m\u001b[1;33m.\u001b[0m\u001b[0m__get_result\u001b[0m\u001b[1;33m(\u001b[0m\u001b[1;33m)\u001b[0m\u001b[1;33m\u001b[0m\u001b[1;33m\u001b[0m\u001b[0m\n\u001b[0;32m    433\u001b[0m \u001b[1;33m\u001b[0m\u001b[0m\n\u001b[1;32m--> 434\u001b[1;33m             \u001b[0mself\u001b[0m\u001b[1;33m.\u001b[0m\u001b[0m_condition\u001b[0m\u001b[1;33m.\u001b[0m\u001b[0mwait\u001b[0m\u001b[1;33m(\u001b[0m\u001b[0mtimeout\u001b[0m\u001b[1;33m)\u001b[0m\u001b[1;33m\u001b[0m\u001b[1;33m\u001b[0m\u001b[0m\n\u001b[0m\u001b[0;32m    435\u001b[0m \u001b[1;33m\u001b[0m\u001b[0m\n\u001b[0;32m    436\u001b[0m             \u001b[1;32mif\u001b[0m \u001b[0mself\u001b[0m\u001b[1;33m.\u001b[0m\u001b[0m_state\u001b[0m \u001b[1;32min\u001b[0m \u001b[1;33m[\u001b[0m\u001b[0mCANCELLED\u001b[0m\u001b[1;33m,\u001b[0m \u001b[0mCANCELLED_AND_NOTIFIED\u001b[0m\u001b[1;33m]\u001b[0m\u001b[1;33m:\u001b[0m\u001b[1;33m\u001b[0m\u001b[1;33m\u001b[0m\u001b[0m\n",
      "\u001b[1;32mD:\\ProgramData\\Anaconda3\\lib\\threading.py\u001b[0m in \u001b[0;36mwait\u001b[1;34m(self, timeout)\u001b[0m\n\u001b[0;32m    300\u001b[0m         \u001b[1;32mtry\u001b[0m\u001b[1;33m:\u001b[0m    \u001b[1;31m# restore state no matter what (e.g., KeyboardInterrupt)\u001b[0m\u001b[1;33m\u001b[0m\u001b[1;33m\u001b[0m\u001b[0m\n\u001b[0;32m    301\u001b[0m             \u001b[1;32mif\u001b[0m \u001b[0mtimeout\u001b[0m \u001b[1;32mis\u001b[0m \u001b[1;32mNone\u001b[0m\u001b[1;33m:\u001b[0m\u001b[1;33m\u001b[0m\u001b[1;33m\u001b[0m\u001b[0m\n\u001b[1;32m--> 302\u001b[1;33m                 \u001b[0mwaiter\u001b[0m\u001b[1;33m.\u001b[0m\u001b[0macquire\u001b[0m\u001b[1;33m(\u001b[0m\u001b[1;33m)\u001b[0m\u001b[1;33m\u001b[0m\u001b[1;33m\u001b[0m\u001b[0m\n\u001b[0m\u001b[0;32m    303\u001b[0m                 \u001b[0mgotit\u001b[0m \u001b[1;33m=\u001b[0m \u001b[1;32mTrue\u001b[0m\u001b[1;33m\u001b[0m\u001b[1;33m\u001b[0m\u001b[0m\n\u001b[0;32m    304\u001b[0m             \u001b[1;32melse\u001b[0m\u001b[1;33m:\u001b[0m\u001b[1;33m\u001b[0m\u001b[1;33m\u001b[0m\u001b[0m\n",
      "\u001b[1;31mKeyboardInterrupt\u001b[0m: "
     ]
    }
   ],
   "source": [
    "def find_hyperparam_rf(trial):\n",
    "    n_estimators = trial.suggest_int('n_estimators', 100, 700)\n",
    "    #max_depth = trial.suggest_int('max_depth', 2, 10)\n",
    "    min_samples_split = trial.suggest_int('min_samples_split', 2, 10)\n",
    "    min_samples_leaf = trial.suggest_int('min_samples_leaf', 1, 10)\n",
    "    criterion = trial.suggest_categorical('criterion', ['gini', 'entropy'])\n",
    "    class_weight = trial.suggest_categorical('class_weight', ['balanced', 'balanced_subsample'])\n",
    "    max_features = trial.suggest_int('max_features', 2, X_train.shape[1])\n",
    "    min_weight_fraction_leaf = trial.suggest_loguniform('min_weight_fraction_leaf', 1e-7, 0.1)\n",
    "    max_leaf_nodes= trial.suggest_int('max_leaf_nodes', 10, 200)\n",
    "    rfc = RandomForestClassifier(oob_score = True, \n",
    "                                 n_estimators = n_estimators,\n",
    "                                 #max_depth = max_depth, \n",
    "                                 min_samples_split = min_samples_split,\n",
    "                                 min_samples_leaf = min_samples_leaf,\n",
    "                                 criterion = criterion,\n",
    "                                 class_weight = class_weight, \n",
    "                                 max_features = max_features,\n",
    "                                 min_weight_fraction_leaf=min_weight_fraction_leaf,\n",
    "                                 max_leaf_nodes = max_leaf_nodes\n",
    "                                )\n",
    "    cv = KFold(n_splits = 5, shuffle = True, random_state = 20)\n",
    "    score = np.mean(cross_val_score(rfc, X_train, y_train,\n",
    "                                    scoring = 'accuracy', cv = cv, n_jobs = -1))\n",
    "    return (score)\n",
    "\n",
    "#rfc_study = optuna.create_study(direction='maximize')\n",
    "rfc_study.optimize(find_hyperparam_rf, n_trials = 150)"
   ]
  },
  {
   "cell_type": "code",
   "execution_count": 35,
   "metadata": {},
   "outputs": [
    {
     "name": "stdout",
     "output_type": "stream",
     "text": [
      "Accuracy:  0.745 Test F1 score:  0.648 / Cohen Kappa:  0.541\n",
      "                         precision    recall  f1-score   support\n",
      "\n",
      "             functional       0.77      0.84      0.80      4822\n",
      "functional needs repair       0.35      0.46      0.40       678\n",
      "         non functional       0.83      0.67      0.74      3410\n",
      "\n",
      "               accuracy                           0.75      8910\n",
      "              macro avg       0.65      0.66      0.65      8910\n",
      "           weighted avg       0.76      0.75      0.75      8910\n",
      "\n"
     ]
    }
   ],
   "source": [
    "rf = RandomForestClassifier(oob_score = True, **rfc_study.best_params, n_jobs = -1)\n",
    "\n",
    "rf.fit(X_train, y_train)\n",
    "y_pred_rf = rf.predict(X_test)\n",
    "scoring(y_test, y_pred_rf, 'random forest optuna')\n",
    "print(classification_report(y_test, y_pred_rf))\n",
    "#Accuracy:  0.745 Test F1 score:  0.648 / Cohen Kappa:  0.541\n",
    "# functional needs repair recall = 0.46"
   ]
  },
  {
   "cell_type": "markdown",
   "metadata": {},
   "source": [
    "Much better performance in predicting the positive minority cases even though overall F1 score has dropped slightly. This model seems to be weighing the minority recall better. "
   ]
  },
  {
   "cell_type": "code",
   "execution_count": 34,
   "metadata": {},
   "outputs": [],
   "source": [
    "# save the study\n",
    "mod = open('PKL/rfc_study.pkl', 'wb')\n",
    "pickle.dump(rfc_study, mod)\n",
    "mod.close()"
   ]
  },
  {
   "cell_type": "code",
   "execution_count": 20,
   "metadata": {},
   "outputs": [],
   "source": [
    "# Reload the study\n",
    "rfc_study = pickle.load(open('PKL/rfc_study.pkl', 'rb'))"
   ]
  },
  {
   "cell_type": "code",
   "execution_count": 36,
   "metadata": {},
   "outputs": [],
   "source": [
    "# save the model\n",
    "mod = open('PKL/rf_model.pkl', 'wb')\n",
    "pickle.dump(rf, mod)\n",
    "mod.close()"
   ]
  },
  {
   "cell_type": "code",
   "execution_count": 21,
   "metadata": {},
   "outputs": [],
   "source": [
    "rf_model = pickle.load(open('PKL/rf_model.pkl', 'rb'))"
   ]
  },
  {
   "cell_type": "code",
   "execution_count": 37,
   "metadata": {},
   "outputs": [
    {
     "data": {
      "text/html": [
       "<div>\n",
       "<style scoped>\n",
       "    .dataframe tbody tr th:only-of-type {\n",
       "        vertical-align: middle;\n",
       "    }\n",
       "\n",
       "    .dataframe tbody tr th {\n",
       "        vertical-align: top;\n",
       "    }\n",
       "\n",
       "    .dataframe thead th {\n",
       "        text-align: right;\n",
       "    }\n",
       "</style>\n",
       "<table border=\"1\" class=\"dataframe\">\n",
       "  <thead>\n",
       "    <tr style=\"text-align: right;\">\n",
       "      <th></th>\n",
       "      <th>feat_importance</th>\n",
       "    </tr>\n",
       "  </thead>\n",
       "  <tbody>\n",
       "    <tr>\n",
       "      <th>quantity_dry</th>\n",
       "      <td>0.1482</td>\n",
       "    </tr>\n",
       "    <tr>\n",
       "      <th>quantity_enough</th>\n",
       "      <td>0.0502</td>\n",
       "    </tr>\n",
       "    <tr>\n",
       "      <th>extraction_type_c_other</th>\n",
       "      <td>0.0500</td>\n",
       "    </tr>\n",
       "    <tr>\n",
       "      <th>longitude</th>\n",
       "      <td>0.0418</td>\n",
       "    </tr>\n",
       "    <tr>\n",
       "      <th>waterpoint_type_hand pump</th>\n",
       "      <td>0.0358</td>\n",
       "    </tr>\n",
       "    <tr>\n",
       "      <th>quantity_insufficient</th>\n",
       "      <td>0.0337</td>\n",
       "    </tr>\n",
       "    <tr>\n",
       "      <th>waterpoint_type_other</th>\n",
       "      <td>0.0327</td>\n",
       "    </tr>\n",
       "    <tr>\n",
       "      <th>lga_bariadi</th>\n",
       "      <td>0.0308</td>\n",
       "    </tr>\n",
       "    <tr>\n",
       "      <th>year_built_after05</th>\n",
       "      <td>0.0295</td>\n",
       "    </tr>\n",
       "    <tr>\n",
       "      <th>lga_long</th>\n",
       "      <td>0.0290</td>\n",
       "    </tr>\n",
       "  </tbody>\n",
       "</table>\n",
       "</div>"
      ],
      "text/plain": [
       "                           feat_importance\n",
       "quantity_dry                        0.1482\n",
       "quantity_enough                     0.0502\n",
       "extraction_type_c_other             0.0500\n",
       "longitude                           0.0418\n",
       "waterpoint_type_hand pump           0.0358\n",
       "quantity_insufficient               0.0337\n",
       "waterpoint_type_other               0.0327\n",
       "lga_bariadi                         0.0308\n",
       "year_built_after05                  0.0295\n",
       "lga_long                            0.0290"
      ]
     },
     "execution_count": 37,
     "metadata": {},
     "output_type": "execute_result"
    }
   ],
   "source": [
    "# feature importance\n",
    "rf_feats = pd.DataFrame(rf.feature_importances_,\n",
    "                        index = new_feats,\n",
    "                        columns=['feat_importance']).sort_values('feat_importance',ascending=False)\n",
    "rf_feats.head(10)"
   ]
  },
  {
   "cell_type": "code",
   "execution_count": 38,
   "metadata": {},
   "outputs": [
    {
     "data": {
      "text/html": [
       "<div>\n",
       "<style scoped>\n",
       "    .dataframe tbody tr th:only-of-type {\n",
       "        vertical-align: middle;\n",
       "    }\n",
       "\n",
       "    .dataframe tbody tr th {\n",
       "        vertical-align: top;\n",
       "    }\n",
       "\n",
       "    .dataframe thead th {\n",
       "        text-align: right;\n",
       "    }\n",
       "</style>\n",
       "<table border=\"1\" class=\"dataframe\">\n",
       "  <thead>\n",
       "    <tr style=\"text-align: right;\">\n",
       "      <th></th>\n",
       "      <th>feat_importance</th>\n",
       "    </tr>\n",
       "  </thead>\n",
       "  <tbody>\n",
       "    <tr>\n",
       "      <th>funder_jica</th>\n",
       "      <td>0.0</td>\n",
       "    </tr>\n",
       "    <tr>\n",
       "      <th>funder_ded</th>\n",
       "      <td>0.0</td>\n",
       "    </tr>\n",
       "    <tr>\n",
       "      <th>funder_jaica</th>\n",
       "      <td>0.0</td>\n",
       "    </tr>\n",
       "    <tr>\n",
       "      <th>installer_rwssp</th>\n",
       "      <td>0.0</td>\n",
       "    </tr>\n",
       "    <tr>\n",
       "      <th>installer_ir</th>\n",
       "      <td>0.0</td>\n",
       "    </tr>\n",
       "    <tr>\n",
       "      <th>funder_ir</th>\n",
       "      <td>0.0</td>\n",
       "    </tr>\n",
       "    <tr>\n",
       "      <th>source_unknown</th>\n",
       "      <td>0.0</td>\n",
       "    </tr>\n",
       "    <tr>\n",
       "      <th>installer_is</th>\n",
       "      <td>0.0</td>\n",
       "    </tr>\n",
       "    <tr>\n",
       "      <th>installer_jaica</th>\n",
       "      <td>0.0</td>\n",
       "    </tr>\n",
       "    <tr>\n",
       "      <th>extraction_type_c_windmill</th>\n",
       "      <td>0.0</td>\n",
       "    </tr>\n",
       "  </tbody>\n",
       "</table>\n",
       "</div>"
      ],
      "text/plain": [
       "                            feat_importance\n",
       "funder_jica                             0.0\n",
       "funder_ded                              0.0\n",
       "funder_jaica                            0.0\n",
       "installer_rwssp                         0.0\n",
       "installer_ir                            0.0\n",
       "funder_ir                               0.0\n",
       "source_unknown                          0.0\n",
       "installer_is                            0.0\n",
       "installer_jaica                         0.0\n",
       "extraction_type_c_windmill              0.0"
      ]
     },
     "execution_count": 38,
     "metadata": {},
     "output_type": "execute_result"
    }
   ],
   "source": [
    "rf_feats.tail(10)"
   ]
  },
  {
   "cell_type": "markdown",
   "metadata": {},
   "source": [
    "## XGBoost\n",
    "Now we'll try to run XGBoost with Optuna."
   ]
  },
  {
   "cell_type": "code",
   "execution_count": 22,
   "metadata": {},
   "outputs": [],
   "source": [
    "import xgboost as xgb"
   ]
  },
  {
   "cell_type": "code",
   "execution_count": 40,
   "metadata": {
    "scrolled": true
   },
   "outputs": [
    {
     "name": "stderr",
     "output_type": "stream",
     "text": [
      "[I 2020-09-01 15:55:40,778] Trial 0 finished with value: 0.6527922303156435 and parameters: {'eta': 0.16874718766825794, 'max_depth': 9, 'subsample': 0.7527545370965828, 'sampling_method': 'gradient_based', 'colsample_bytree': 0.012929896348276982, 'colsample_bylevel': 0.10019852848838491, 'colsample_bynode': 0.3051975466289551}. Best is trial 0 with value: 0.6527922303156435.\n",
      "[I 2020-09-01 15:56:22,383] Trial 1 finished with value: 0.7097641345820326 and parameters: {'eta': 0.002336339825524799, 'max_depth': 26, 'subsample': 0.44979595308116943, 'sampling_method': 'gradient_based', 'colsample_bytree': 0.5828607244928107, 'colsample_bylevel': 0.6779726402617559, 'colsample_bynode': 0.02258704899368756}. Best is trial 1 with value: 0.7097641345820326.\n",
      "[I 2020-09-01 15:56:45,382] Trial 2 finished with value: 0.5746791536593826 and parameters: {'eta': 0.013090425960925883, 'max_depth': 1, 'subsample': 0.5644791653429895, 'sampling_method': 'gradient_based', 'colsample_bytree': 0.024573303423427895, 'colsample_bylevel': 0.20938176887700136, 'colsample_bynode': 0.36899715882627027}. Best is trial 1 with value: 0.7097641345820326.\n",
      "[I 2020-09-01 15:57:10,669] Trial 3 finished with value: 0.7181408255289629 and parameters: {'eta': 0.2106738088755008, 'max_depth': 3, 'subsample': 0.4863224124109254, 'sampling_method': 'uniform', 'colsample_bytree': 0.2372022508137489, 'colsample_bylevel': 0.1598331071461874, 'colsample_bynode': 0.3089740467963632}. Best is trial 3 with value: 0.7181408255289629.\n",
      "[I 2020-09-01 15:57:37,291] Trial 4 finished with value: 0.7295178633368019 and parameters: {'eta': 0.37455394575532824, 'max_depth': 43, 'subsample': 0.5742387526433624, 'sampling_method': 'uniform', 'colsample_bytree': 0.11432150196899804, 'colsample_bylevel': 0.13777628203048037, 'colsample_bynode': 0.21454055487689117}. Best is trial 4 with value: 0.7295178633368019.\n",
      "[I 2020-09-01 15:58:02,386] Trial 5 finished with value: 0.6658688865764828 and parameters: {'eta': 0.06674813965659519, 'max_depth': 17, 'subsample': 0.6158997492950827, 'sampling_method': 'gradient_based', 'colsample_bytree': 0.032998205139835, 'colsample_bylevel': 0.09617570317836621, 'colsample_bynode': 0.18907394301069705}. Best is trial 4 with value: 0.7295178633368019.\n",
      "[I 2020-09-01 15:58:31,630] Trial 6 finished with value: 0.6653659382587583 and parameters: {'eta': 0.014464255055962515, 'max_depth': 37, 'subsample': 0.7792510501986086, 'sampling_method': 'gradient_based', 'colsample_bytree': 0.5291814339192621, 'colsample_bylevel': 0.01668199893612414, 'colsample_bynode': 0.0311037709870471}. Best is trial 4 with value: 0.7295178633368019.\n",
      "[I 2020-09-01 15:58:53,904] Trial 7 finished with value: 0.5842178286507111 and parameters: {'eta': 0.006672258573546527, 'max_depth': 1, 'subsample': 0.7643802711861243, 'sampling_method': 'uniform', 'colsample_bytree': 0.08320652046388076, 'colsample_bylevel': 0.2461754241860091, 'colsample_bynode': 0.013333505236913677}. Best is trial 4 with value: 0.7295178633368019.\n",
      "[I 2020-09-01 15:59:21,314] Trial 8 finished with value: 0.7565730142212972 and parameters: {'eta': 0.706384249499764, 'max_depth': 39, 'subsample': 0.882309803845476, 'sampling_method': 'gradient_based', 'colsample_bytree': 0.1742206556418109, 'colsample_bylevel': 0.03247377779869027, 'colsample_bynode': 0.015804079081572848}. Best is trial 8 with value: 0.7565730142212972.\n",
      "[I 2020-09-01 15:59:49,234] Trial 9 finished with value: 0.6604925424904613 and parameters: {'eta': 0.005064454583860865, 'max_depth': 39, 'subsample': 0.4069796648102626, 'sampling_method': 'uniform', 'colsample_bytree': 0.14812863391073178, 'colsample_bylevel': 0.17217035274090298, 'colsample_bynode': 0.03179037745885013}. Best is trial 8 with value: 0.7565730142212972.\n",
      "[I 2020-09-01 16:00:18,041] Trial 10 finished with value: 0.770100589663545 and parameters: {'eta': 0.7682476858829375, 'max_depth': 49, 'subsample': 0.996881977205283, 'sampling_method': 'gradient_based', 'colsample_bytree': 0.9587735407723531, 'colsample_bylevel': 0.013749468201940217, 'colsample_bynode': 0.07582783828879584}. Best is trial 10 with value: 0.770100589663545.\n",
      "[I 2020-09-01 16:00:47,649] Trial 11 finished with value: 0.7730489073881375 and parameters: {'eta': 0.8970656736755966, 'max_depth': 50, 'subsample': 0.9835002744000951, 'sampling_method': 'gradient_based', 'colsample_bytree': 0.953017860431304, 'colsample_bylevel': 0.01356864426194274, 'colsample_bynode': 0.07985598885649835}. Best is trial 11 with value: 0.7730489073881375.\n",
      "[I 2020-09-01 16:01:17,410] Trial 12 finished with value: 0.777315296566077 and parameters: {'eta': 0.9068361910538824, 'max_depth': 50, 'subsample': 0.9690708410802084, 'sampling_method': 'gradient_based', 'colsample_bytree': 0.9094620709493476, 'colsample_bylevel': 0.010094361842299449, 'colsample_bynode': 0.10629493900503213}. Best is trial 12 with value: 0.777315296566077.\n",
      "[I 2020-09-01 16:01:46,803] Trial 13 finished with value: 0.6896635449184877 and parameters: {'eta': 0.05660035789240555, 'max_depth': 50, 'subsample': 0.9765922798428734, 'sampling_method': 'gradient_based', 'colsample_bytree': 0.9463619252558053, 'colsample_bylevel': 0.030387958083750215, 'colsample_bynode': 0.07888850550958063}. Best is trial 12 with value: 0.777315296566077.\n",
      "[I 2020-09-01 16:02:14,439] Trial 14 finished with value: 0.7713666319805759 and parameters: {'eta': 0.9891039990192267, 'max_depth': 30, 'subsample': 0.8828605802451354, 'sampling_method': 'gradient_based', 'colsample_bytree': 0.3739666240847892, 'colsample_bylevel': 0.011308544012469106, 'colsample_bynode': 0.7973287137240456}. Best is trial 12 with value: 0.777315296566077.\n",
      "[I 2020-09-01 16:02:43,971] Trial 15 finished with value: 0.7492369060006937 and parameters: {'eta': 0.3185869255250644, 'max_depth': 49, 'subsample': 0.892669218778195, 'sampling_method': 'gradient_based', 'colsample_bytree': 0.8856032280157947, 'colsample_bylevel': 0.02863353684511633, 'colsample_bynode': 0.0548926698784363}. Best is trial 12 with value: 0.777315296566077.\n",
      "[I 2020-09-01 16:03:12,427] Trial 16 finished with value: 0.6960457856399584 and parameters: {'eta': 0.10459799342902615, 'max_depth': 45, 'subsample': 0.6980578153907031, 'sampling_method': 'gradient_based', 'colsample_bytree': 0.38333583516907627, 'colsample_bylevel': 0.049997234488206796, 'colsample_bynode': 0.14076415718933497}. Best is trial 12 with value: 0.777315296566077.\n",
      "[I 2020-09-01 16:03:41,651] Trial 17 finished with value: 0.7804717308359347 and parameters: {'eta': 0.996221108769151, 'max_depth': 32, 'subsample': 0.9912097745194476, 'sampling_method': 'gradient_based', 'colsample_bytree': 0.95695504268475, 'colsample_bylevel': 0.010359494772423948, 'colsample_bynode': 0.046942666174679126}. Best is trial 17 with value: 0.7804717308359347.\n",
      "[I 2020-09-01 16:04:07,911] Trial 18 finished with value: 0.7164065209850851 and parameters: {'eta': 0.4276146553708704, 'max_depth': 19, 'subsample': 0.8668314338124848, 'sampling_method': 'gradient_based', 'colsample_bytree': 0.07313422769639438, 'colsample_bylevel': 0.6584438551431313, 'colsample_bynode': 0.05168882568392845}. Best is trial 17 with value: 0.7804717308359347.\n",
      "[I 2020-09-01 16:04:36,404] Trial 19 finished with value: 0.6549947970863684 and parameters: {'eta': 0.0012432522963240463, 'max_depth': 32, 'subsample': 0.6912613217029259, 'sampling_method': 'gradient_based', 'colsample_bytree': 0.24824839568426105, 'colsample_bylevel': 0.022635999485775625, 'colsample_bynode': 0.7204093553905266}. Best is trial 17 with value: 0.7804717308359347.\n",
      "[I 2020-09-01 16:05:03,365] Trial 20 finished with value: 0.7137010058966354 and parameters: {'eta': 0.15048714419233045, 'max_depth': 13, 'subsample': 0.9910683350958863, 'sampling_method': 'gradient_based', 'colsample_bytree': 0.6035903626911883, 'colsample_bylevel': 0.010271523055191134, 'colsample_bynode': 0.11518567326731838}. Best is trial 17 with value: 0.7804717308359347.\n",
      "[I 2020-09-01 16:05:33,092] Trial 21 finished with value: 0.7737599722511274 and parameters: {'eta': 0.9004018249773049, 'max_depth': 45, 'subsample': 0.9945219060534617, 'sampling_method': 'gradient_based', 'colsample_bytree': 0.9904454401593182, 'colsample_bylevel': 0.010548271079508223, 'colsample_bynode': 0.04282258173248781}. Best is trial 17 with value: 0.7804717308359347.\n",
      "[I 2020-09-01 16:06:02,382] Trial 22 finished with value: 0.7608740894901145 and parameters: {'eta': 0.5437754937868607, 'max_depth': 44, 'subsample': 0.8190509284824469, 'sampling_method': 'gradient_based', 'colsample_bytree': 0.6203037366988315, 'colsample_bylevel': 0.018226322324226055, 'colsample_bynode': 0.04329195373252251}. Best is trial 17 with value: 0.7804717308359347.\n",
      "[I 2020-09-01 16:06:30,747] Trial 23 finished with value: 0.7703780783905654 and parameters: {'eta': 0.972531910125017, 'max_depth': 33, 'subsample': 0.9475176565115101, 'sampling_method': 'gradient_based', 'colsample_bytree': 0.3602916606833652, 'colsample_bylevel': 0.04687563849423005, 'colsample_bynode': 0.02616205118506013}. Best is trial 17 with value: 0.7804717308359347.\n",
      "[I 2020-09-01 16:07:00,407] Trial 24 finished with value: 0.7403572667360387 and parameters: {'eta': 0.2876794793193436, 'max_depth': 26, 'subsample': 0.9267124951158928, 'sampling_method': 'gradient_based', 'colsample_bytree': 0.7579087689301636, 'colsample_bylevel': 0.011620259177744443, 'colsample_bynode': 0.039405804538287285}. Best is trial 17 with value: 0.7804717308359347.\n",
      "[I 2020-09-01 16:07:31,553] Trial 25 finished with value: 0.7768990634755463 and parameters: {'eta': 0.9937257083307005, 'max_depth': 46, 'subsample': 0.8360429622131249, 'sampling_method': 'gradient_based', 'colsample_bytree': 0.9939731393018466, 'colsample_bylevel': 0.010238133765953804, 'colsample_bynode': 0.06081733187954893}. Best is trial 17 with value: 0.7804717308359347.\n",
      "[I 2020-09-01 16:07:59,848] Trial 26 finished with value: 0.7510405827263268 and parameters: {'eta': 0.49117738088329155, 'max_depth': 41, 'subsample': 0.8223696221398508, 'sampling_method': 'gradient_based', 'colsample_bytree': 0.4598456464413451, 'colsample_bylevel': 0.021489867483962356, 'colsample_bynode': 0.12453474937189793}. Best is trial 17 with value: 0.7804717308359347.\n",
      "[I 2020-09-01 16:08:27,360] Trial 27 finished with value: 0.6719562955254943 and parameters: {'eta': 0.03320614724622414, 'max_depth': 34, 'subsample': 0.6975336909074419, 'sampling_method': 'uniform', 'colsample_bytree': 0.2557510358171241, 'colsample_bylevel': 0.0448439433189348, 'colsample_bynode': 0.019422763405880204}. Best is trial 17 with value: 0.7804717308359347.\n",
      "[I 2020-09-01 16:08:52,736] Trial 28 finished with value: 0.6747138397502601 and parameters: {'eta': 0.10873872592754663, 'max_depth': 47, 'subsample': 0.8077826604000266, 'sampling_method': 'gradient_based', 'colsample_bytree': 0.05309207226050129, 'colsample_bylevel': 0.39899086876876627, 'colsample_bynode': 0.06772127824513742}. Best is trial 17 with value: 0.7804717308359347.\n",
      "[I 2020-09-01 16:09:16,857] Trial 29 finished with value: 0.6489247311827957 and parameters: {'eta': 0.21573212598962618, 'max_depth': 22, 'subsample': 0.7278329066531882, 'sampling_method': 'gradient_based', 'colsample_bytree': 0.01136160314272409, 'colsample_bylevel': 0.06657485423099019, 'colsample_bynode': 0.1711337015999869}. Best is trial 17 with value: 0.7804717308359347.\n",
      "[I 2020-09-01 16:09:46,141] Trial 30 finished with value: 0.7651404786680541 and parameters: {'eta': 0.5125146432486904, 'max_depth': 29, 'subsample': 0.9160737626740163, 'sampling_method': 'gradient_based', 'colsample_bytree': 0.7556002976643689, 'colsample_bylevel': 0.016366990555949243, 'colsample_bynode': 0.010794565728897329}. Best is trial 17 with value: 0.7804717308359347.\n",
      "[I 2020-09-01 16:10:15,428] Trial 31 finished with value: 0.7724419007977802 and parameters: {'eta': 0.8422707371885376, 'max_depth': 36, 'subsample': 0.9922251647709649, 'sampling_method': 'gradient_based', 'colsample_bytree': 0.738004479340765, 'colsample_bylevel': 0.011088128066391957, 'colsample_bynode': 0.05508514745280796}. Best is trial 17 with value: 0.7804717308359347.\n",
      "[I 2020-09-01 16:10:44,775] Trial 32 finished with value: 0.7768817204301075 and parameters: {'eta': 0.971001108994905, 'max_depth': 45, 'subsample': 0.8481124061204517, 'sampling_method': 'gradient_based', 'colsample_bytree': 0.9584825644229042, 'colsample_bylevel': 0.022025578254900802, 'colsample_bynode': 0.09344855833269769}. Best is trial 17 with value: 0.7804717308359347.\n",
      "[I 2020-09-01 16:11:13,023] Trial 33 finished with value: 0.7623482483524107 and parameters: {'eta': 0.6009467829971612, 'max_depth': 41, 'subsample': 0.8382252812315022, 'sampling_method': 'gradient_based', 'colsample_bytree': 0.4578873820180006, 'colsample_bylevel': 0.02203127977512891, 'colsample_bynode': 0.09759779899395533}. Best is trial 17 with value: 0.7804717308359347.\n",
      "[I 2020-09-01 16:11:41,785] Trial 34 finished with value: 0.7354665279223032 and parameters: {'eta': 0.2685548591992326, 'max_depth': 47, 'subsample': 0.9305942537538928, 'sampling_method': 'gradient_based', 'colsample_bytree': 0.9962582394057444, 'colsample_bylevel': 0.014690514736897121, 'colsample_bynode': 0.22308579318197985}. Best is trial 17 with value: 0.7804717308359347.\n",
      "[I 2020-09-01 16:12:06,376] Trial 35 finished with value: 0.656035379812695 and parameters: {'eta': 0.15051801180920824, 'max_depth': 43, 'subsample': 0.6342803873414952, 'sampling_method': 'gradient_based', 'colsample_bytree': 0.01869345811274852, 'colsample_bylevel': 0.024499190102918476, 'colsample_bynode': 0.43924878313216537}. Best is trial 17 with value: 0.7804717308359347.\n",
      "[I 2020-09-01 16:12:35,885] Trial 36 finished with value: 0.7490981616371835 and parameters: {'eta': 0.3861618174821207, 'max_depth': 47, 'subsample': 0.5139645390182177, 'sampling_method': 'gradient_based', 'colsample_bytree': 0.6589054365130851, 'colsample_bylevel': 0.01005280058809016, 'colsample_bynode': 0.09866955811887954}. Best is trial 17 with value: 0.7804717308359347.\n",
      "[I 2020-09-01 16:13:02,725] Trial 37 finished with value: 0.734928893513701 and parameters: {'eta': 0.9968719579288727, 'max_depth': 9, 'subsample': 0.7400136957328871, 'sampling_method': 'uniform', 'colsample_bytree': 0.2901407782322238, 'colsample_bylevel': 0.0367313388679673, 'colsample_bynode': 0.15862900751518433}. Best is trial 17 with value: 0.7804717308359347.\n",
      "[I 2020-09-01 16:13:32,854] Trial 38 finished with value: 0.7601977107180021 and parameters: {'eta': 0.6507336646544222, 'max_depth': 37, 'subsample': 0.7813943182198309, 'sampling_method': 'gradient_based', 'colsample_bytree': 0.4777423933522603, 'colsample_bylevel': 0.01818099204035012, 'colsample_bynode': 0.26571739585406023}. Best is trial 17 with value: 0.7804717308359347.\n",
      "[I 2020-09-01 16:13:59,726] Trial 39 finished with value: 0.717499132847728 and parameters: {'eta': 0.21932735533306505, 'max_depth': 41, 'subsample': 0.8496905694904408, 'sampling_method': 'gradient_based', 'colsample_bytree': 0.18378682846809608, 'colsample_bylevel': 0.08293452056474734, 'colsample_bynode': 0.0631696386323625}. Best is trial 17 with value: 0.7804717308359347.\n",
      "[I 2020-09-01 16:14:28,163] Trial 40 finished with value: 0.7518383628165106 and parameters: {'eta': 0.38052960444736217, 'max_depth': 26, 'subsample': 0.944212811911218, 'sampling_method': 'uniform', 'colsample_bytree': 0.5619753899053883, 'colsample_bylevel': 0.01299052257511109, 'colsample_bynode': 0.09744031241903411}. Best is trial 17 with value: 0.7804717308359347.\n",
      "[I 2020-09-01 16:14:57,581] Trial 41 finished with value: 0.7701352757544224 and parameters: {'eta': 0.7091440664381538, 'max_depth': 43, 'subsample': 0.9552816631131332, 'sampling_method': 'gradient_based', 'colsample_bytree': 0.8038282187324397, 'colsample_bylevel': 0.01019395932498112, 'colsample_bynode': 0.040082104562294905}. Best is trial 17 with value: 0.7804717308359347.\n"
     ]
    },
    {
     "name": "stderr",
     "output_type": "stream",
     "text": [
      "[I 2020-09-01 16:15:26,794] Trial 42 finished with value: 0.7676378772112382 and parameters: {'eta': 0.6321157383895158, 'max_depth': 46, 'subsample': 0.9022200191242498, 'sampling_method': 'gradient_based', 'colsample_bytree': 0.990018152133977, 'colsample_bylevel': 0.010062605202291422, 'colsample_bynode': 0.03174221744781355}. Best is trial 17 with value: 0.7804717308359347.\n",
      "[I 2020-09-01 16:15:56,282] Trial 43 finished with value: 0.7694935830731877 and parameters: {'eta': 0.9638597463142387, 'max_depth': 50, 'subsample': 0.7872179587152606, 'sampling_method': 'gradient_based', 'colsample_bytree': 0.979479649672917, 'colsample_bylevel': 0.018906878025572758, 'colsample_bynode': 0.023264913810973703}. Best is trial 17 with value: 0.7804717308359347.\n",
      "[I 2020-09-01 16:16:25,376] Trial 44 finished with value: 0.7757544224765869 and parameters: {'eta': 0.9497532389786201, 'max_depth': 39, 'subsample': 0.85142392275818, 'sampling_method': 'gradient_based', 'colsample_bytree': 0.7247170485038639, 'colsample_bylevel': 0.014074994722074484, 'colsample_bynode': 0.04640068618465539}. Best is trial 17 with value: 0.7804717308359347.\n",
      "[I 2020-09-01 16:16:54,054] Trial 45 finished with value: 0.7510405827263267 and parameters: {'eta': 0.4374301755562632, 'max_depth': 39, 'subsample': 0.8648374510917677, 'sampling_method': 'gradient_based', 'colsample_bytree': 0.6203857622434594, 'colsample_bylevel': 0.014533556670269605, 'colsample_bynode': 0.08757243178137313}. Best is trial 17 with value: 0.7804717308359347.\n",
      "[I 2020-09-01 16:17:23,766] Trial 46 finished with value: 0.6562955254942768 and parameters: {'eta': 0.0077310539689467, 'max_depth': 36, 'subsample': 0.6533542675217863, 'sampling_method': 'gradient_based', 'colsample_bytree': 0.7743343731087325, 'colsample_bylevel': 0.027017764344491782, 'colsample_bynode': 0.12439424136522458}. Best is trial 17 with value: 0.7804717308359347.\n",
      "[I 2020-09-01 16:17:51,714] Trial 47 finished with value: 0.7687478321193202 and parameters: {'eta': 0.989353134598484, 'max_depth': 30, 'subsample': 0.7986900245038104, 'sampling_method': 'gradient_based', 'colsample_bytree': 0.3160898948377736, 'colsample_bylevel': 0.012875965068019728, 'colsample_bynode': 0.06519017424137134}. Best is trial 17 with value: 0.7804717308359347.\n",
      "[I 2020-09-01 16:18:20,492] Trial 48 finished with value: 0.6696496704821366 and parameters: {'eta': 0.023245738668321962, 'max_depth': 38, 'subsample': 0.8546614985895282, 'sampling_method': 'gradient_based', 'colsample_bytree': 0.452083010326992, 'colsample_bylevel': 0.037416322437072734, 'colsample_bynode': 0.048609789598781775}. Best is trial 17 with value: 0.7804717308359347.\n",
      "[I 2020-09-01 16:18:48,878] Trial 49 finished with value: 0.7596080471730835 and parameters: {'eta': 0.7023771145501334, 'max_depth': 41, 'subsample': 0.7491711429373236, 'sampling_method': 'gradient_based', 'colsample_bytree': 0.5187869718630804, 'colsample_bylevel': 0.016258475419268427, 'colsample_bynode': 0.03577648030242621}. Best is trial 17 with value: 0.7804717308359347.\n",
      "[I 2020-09-01 16:19:18,669] Trial 50 finished with value: 0.657925771765522 and parameters: {'eta': 0.001901115900043267, 'max_depth': 23, 'subsample': 0.5837844416653606, 'sampling_method': 'uniform', 'colsample_bytree': 0.8434267918129983, 'colsample_bylevel': 0.01335258305184642, 'colsample_bynode': 0.07538314202874585}. Best is trial 17 with value: 0.7804717308359347.\n",
      "[I 2020-09-01 16:19:48,082] Trial 51 finished with value: 0.7749046132500867 and parameters: {'eta': 0.7653970173174398, 'max_depth': 48, 'subsample': 0.971717070720878, 'sampling_method': 'gradient_based', 'colsample_bytree': 0.9301723194947286, 'colsample_bylevel': 0.012423708087703787, 'colsample_bynode': 0.02691039207268064}. Best is trial 17 with value: 0.7804717308359347.\n",
      "[I 2020-09-01 16:20:17,303] Trial 52 finished with value: 0.7736732570239334 and parameters: {'eta': 0.7785796173477117, 'max_depth': 48, 'subsample': 0.902221363218267, 'sampling_method': 'gradient_based', 'colsample_bytree': 0.6543805229912981, 'colsample_bylevel': 0.01982885011006074, 'colsample_bynode': 0.019869128840301686}. Best is trial 17 with value: 0.7804717308359347.\n",
      "[I 2020-09-01 16:20:46,698] Trial 53 finished with value: 0.7772806104751996 and parameters: {'eta': 0.9975190478483366, 'max_depth': 50, 'subsample': 0.9709488643553958, 'sampling_method': 'gradient_based', 'colsample_bytree': 0.9895259761708608, 'colsample_bylevel': 0.015403474950486573, 'colsample_bynode': 0.025057262471569624}. Best is trial 17 with value: 0.7804717308359347.\n",
      "[I 2020-09-01 16:21:26,062] Trial 54 finished with value: 0.8000693721817551 and parameters: {'eta': 0.320289563901572, 'max_depth': 44, 'subsample': 0.8831686407858723, 'sampling_method': 'gradient_based', 'colsample_bytree': 0.8336605755989652, 'colsample_bylevel': 0.12928689358548795, 'colsample_bynode': 0.059464749690309494}. Best is trial 54 with value: 0.8000693721817551.\n",
      "[I 2020-09-01 16:21:54,919] Trial 55 finished with value: 0.743236212278876 and parameters: {'eta': 0.33933629186346326, 'max_depth': 44, 'subsample': 0.8901229564904425, 'sampling_method': 'gradient_based', 'colsample_bytree': 0.9838216018235243, 'colsample_bylevel': 0.11297560941539096, 'colsample_bynode': 0.014718537641323737}. Best is trial 54 with value: 0.8000693721817551.\n",
      "[I 2020-09-01 16:22:32,755] Trial 56 finished with value: 0.8096427332639612 and parameters: {'eta': 0.5091033089543417, 'max_depth': 45, 'subsample': 0.9986027528534742, 'sampling_method': 'gradient_based', 'colsample_bytree': 0.5527190360728412, 'colsample_bylevel': 0.20108844028099712, 'colsample_bynode': 0.0587185626836487}. Best is trial 56 with value: 0.8096427332639612.\n",
      "[I 2020-09-01 16:23:02,069] Trial 57 finished with value: 0.7403919528269165 and parameters: {'eta': 0.5134823265108379, 'max_depth': 50, 'subsample': 0.4011575771900315, 'sampling_method': 'gradient_based', 'colsample_bytree': 0.12208952300799736, 'colsample_bylevel': 0.19911781356227745, 'colsample_bynode': 0.05851006588861165}. Best is trial 56 with value: 0.8096427332639612.\n",
      "[I 2020-09-01 16:23:39,028] Trial 58 finished with value: 0.7901491501907735 and parameters: {'eta': 0.24369674617427375, 'max_depth': 50, 'subsample': 0.9937291207335966, 'sampling_method': 'gradient_based', 'colsample_bytree': 0.5606241922491265, 'colsample_bylevel': 0.3080105373388306, 'colsample_bynode': 0.03438613381975649}. Best is trial 56 with value: 0.8096427332639612.\n",
      "[I 2020-09-01 16:24:06,456] Trial 59 finished with value: 0.697173083593479 and parameters: {'eta': 0.11775281339532286, 'max_depth': 50, 'subsample': 0.9985083781961637, 'sampling_method': 'gradient_based', 'colsample_bytree': 0.19770629041521798, 'colsample_bylevel': 0.30691637485649176, 'colsample_bynode': 0.034643029160272884}. Best is trial 56 with value: 0.8096427332639612.\n",
      "[I 2020-09-01 16:24:34,112] Trial 60 finished with value: 0.7204647936177594 and parameters: {'eta': 0.25677731532435105, 'max_depth': 49, 'subsample': 0.9511776454479628, 'sampling_method': 'gradient_based', 'colsample_bytree': 0.3828247397995326, 'colsample_bylevel': 0.144560210487518, 'colsample_bynode': 0.030270926386859055}. Best is trial 56 with value: 0.8096427332639612.\n",
      "[I 2020-09-01 16:25:25,620] Trial 61 finished with value: 0.7974332292750607 and parameters: {'eta': 0.0732794855847104, 'max_depth': 43, 'subsample': 0.9720416205413219, 'sampling_method': 'gradient_based', 'colsample_bytree': 0.558698869372339, 'colsample_bylevel': 0.3015003386699795, 'colsample_bynode': 0.07290979527117414}. Best is trial 56 with value: 0.8096427332639612.\n",
      "[I 2020-09-01 16:26:27,577] Trial 62 finished with value: 0.8298820672910162 and parameters: {'eta': 0.09489619102137592, 'max_depth': 42, 'subsample': 0.9657946602424393, 'sampling_method': 'gradient_based', 'colsample_bytree': 0.5363618111350182, 'colsample_bylevel': 0.43121293516304154, 'colsample_bynode': 0.07434658555912095}. Best is trial 62 with value: 0.8298820672910162.\n",
      "[I 2020-09-01 16:27:28,941] Trial 63 finished with value: 0.8191467221644121 and parameters: {'eta': 0.07634308873843847, 'max_depth': 43, 'subsample': 0.4240694791335665, 'sampling_method': 'gradient_based', 'colsample_bytree': 0.5197804736883753, 'colsample_bylevel': 0.46363100304232086, 'colsample_bynode': 0.0758509831427972}. Best is trial 62 with value: 0.8298820672910162.\n",
      "[I 2020-09-01 16:28:37,644] Trial 64 finished with value: 0.8242976066597294 and parameters: {'eta': 0.06720881937183196, 'max_depth': 42, 'subsample': 0.4759015981677102, 'sampling_method': 'gradient_based', 'colsample_bytree': 0.542843569624773, 'colsample_bylevel': 0.5210140938077948, 'colsample_bynode': 0.073398315128739}. Best is trial 62 with value: 0.8298820672910162.\n",
      "[I 2020-09-01 16:29:30,627] Trial 65 finished with value: 0.7937044745057232 and parameters: {'eta': 0.06709931789052281, 'max_depth': 43, 'subsample': 0.4218151951710794, 'sampling_method': 'gradient_based', 'colsample_bytree': 0.32471529011316574, 'colsample_bylevel': 0.5676522688666064, 'colsample_bynode': 0.0773988348497732}. Best is trial 62 with value: 0.8298820672910162.\n",
      "[I 2020-09-01 16:30:22,417] Trial 66 finished with value: 0.7994450225459592 and parameters: {'eta': 0.08254198721014896, 'max_depth': 42, 'subsample': 0.4289208303202249, 'sampling_method': 'gradient_based', 'colsample_bytree': 0.3345151783328183, 'colsample_bylevel': 0.5677831142281493, 'colsample_bynode': 0.075073675726143}. Best is trial 62 with value: 0.8298820672910162.\n",
      "[I 2020-09-01 16:31:33,536] Trial 67 finished with value: 0.8228928199791883 and parameters: {'eta': 0.05092030657985029, 'max_depth': 41, 'subsample': 0.4545952272482175, 'sampling_method': 'gradient_based', 'colsample_bytree': 0.41204959970077826, 'colsample_bylevel': 0.8745759933123535, 'colsample_bynode': 0.07219614866926882}. Best is trial 62 with value: 0.8298820672910162.\n",
      "[I 2020-09-01 16:32:47,886] Trial 68 finished with value: 0.8227193895248005 and parameters: {'eta': 0.045426045059163735, 'max_depth': 40, 'subsample': 0.46145452659974284, 'sampling_method': 'gradient_based', 'colsample_bytree': 0.41194663076080423, 'colsample_bylevel': 0.8466904905573875, 'colsample_bynode': 0.08518267623331886}. Best is trial 62 with value: 0.8298820672910162.\n",
      "[I 2020-09-01 16:34:23,761] Trial 69 finished with value: 0.835015608740895 and parameters: {'eta': 0.03941792215808728, 'max_depth': 35, 'subsample': 0.4733897893945785, 'sampling_method': 'gradient_based', 'colsample_bytree': 0.4266321971960283, 'colsample_bylevel': 0.9950726493955772, 'colsample_bynode': 0.11276340239960744}. Best is trial 69 with value: 0.835015608740895.\n",
      "[I 2020-09-01 16:35:47,701] Trial 70 finished with value: 0.823465140478668 and parameters: {'eta': 0.0430130402529963, 'max_depth': 36, 'subsample': 0.4799729161530222, 'sampling_method': 'gradient_based', 'colsample_bytree': 0.2609336392094903, 'colsample_bylevel': 0.9849209791985768, 'colsample_bynode': 0.13969033352894114}. Best is trial 69 with value: 0.835015608740895.\n",
      "[I 2020-09-01 16:37:32,963] Trial 71 finished with value: 0.8435310440513353 and parameters: {'eta': 0.04572435357837551, 'max_depth': 34, 'subsample': 0.4700183075412708, 'sampling_method': 'gradient_based', 'colsample_bytree': 0.41656733623930203, 'colsample_bylevel': 0.9607185188054977, 'colsample_bynode': 0.13464193394567414}. Best is trial 71 with value: 0.8435310440513353.\n",
      "[I 2020-09-01 16:39:25,806] Trial 72 finished with value: 0.8455775234131113 and parameters: {'eta': 0.046028878798645555, 'max_depth': 35, 'subsample': 0.4734777054395887, 'sampling_method': 'gradient_based', 'colsample_bytree': 0.4143281251524231, 'colsample_bylevel': 0.9671655392062423, 'colsample_bynode': 0.14983778925228616}. Best is trial 72 with value: 0.8455775234131113.\n",
      "[I 2020-09-01 16:41:45,672] Trial 73 finished with value: 0.8509191814082554 and parameters: {'eta': 0.047015847004812955, 'max_depth': 36, 'subsample': 0.4778081513429783, 'sampling_method': 'gradient_based', 'colsample_bytree': 0.415717416280942, 'colsample_bylevel': 0.9884376260231053, 'colsample_bynode': 0.20250017161748426}. Best is trial 73 with value: 0.8509191814082554.\n",
      "[I 2020-09-01 16:43:11,494] Trial 74 finished with value: 0.8268470343392298 and parameters: {'eta': 0.04689964863025253, 'max_depth': 34, 'subsample': 0.49929758273229297, 'sampling_method': 'gradient_based', 'colsample_bytree': 0.22040363826692455, 'colsample_bylevel': 0.9397181764955088, 'colsample_bynode': 0.19059763066076343}. Best is trial 73 with value: 0.8509191814082554.\n",
      "[I 2020-09-01 16:44:41,769] Trial 75 finished with value: 0.8254422476586889 and parameters: {'eta': 0.035585348125320646, 'max_depth': 35, 'subsample': 0.5093305730384395, 'sampling_method': 'gradient_based', 'colsample_bytree': 0.27318200111072494, 'colsample_bylevel': 0.7453125372227491, 'colsample_bynode': 0.2146629458432867}. Best is trial 73 with value: 0.8509191814082554.\n",
      "[I 2020-09-01 16:45:53,664] Trial 76 finished with value: 0.7961671869580298 and parameters: {'eta': 0.02309263123806959, 'max_depth': 28, 'subsample': 0.5240534494572373, 'sampling_method': 'gradient_based', 'colsample_bytree': 0.2050889384560922, 'colsample_bylevel': 0.7243094754583801, 'colsample_bynode': 0.2086079970825443}. Best is trial 73 with value: 0.8509191814082554.\n",
      "[I 2020-09-01 16:47:23,640] Trial 77 finished with value: 0.810596600763094 and parameters: {'eta': 0.03234400791681013, 'max_depth': 32, 'subsample': 0.5106286343579987, 'sampling_method': 'gradient_based', 'colsample_bytree': 0.1568477978353412, 'colsample_bylevel': 0.9587517977936579, 'colsample_bynode': 0.303550343586413}. Best is trial 73 with value: 0.8509191814082554.\n",
      "[I 2020-09-01 16:48:34,018] Trial 78 finished with value: 0.7951092611862643 and parameters: {'eta': 0.02185742144794451, 'max_depth': 34, 'subsample': 0.4846462111153853, 'sampling_method': 'uniform', 'colsample_bytree': 0.2244295251015092, 'colsample_bylevel': 0.7235044924822797, 'colsample_bynode': 0.17960604108786857}. Best is trial 73 with value: 0.8509191814082554.\n",
      "[I 2020-09-01 16:50:47,141] Trial 79 finished with value: 0.8278009018383627 and parameters: {'eta': 0.014514981300594804, 'max_depth': 34, 'subsample': 0.4700083581730489, 'sampling_method': 'gradient_based', 'colsample_bytree': 0.29984045925505026, 'colsample_bylevel': 0.6134312140548391, 'colsample_bynode': 0.4444842237455679}. Best is trial 73 with value: 0.8509191814082554.\n",
      "[I 2020-09-01 16:53:48,353] Trial 80 finished with value: 0.8356052722858134 and parameters: {'eta': 0.012872297188477183, 'max_depth': 34, 'subsample': 0.5411500985955855, 'sampling_method': 'gradient_based', 'colsample_bytree': 0.28710532308179504, 'colsample_bylevel': 0.8146925883840741, 'colsample_bynode': 0.5082997549784536}. Best is trial 73 with value: 0.8509191814082554.\n",
      "[I 2020-09-01 16:56:14,133] Trial 81 finished with value: 0.8227887617065557 and parameters: {'eta': 0.01254409683673548, 'max_depth': 34, 'subsample': 0.49825837573462556, 'sampling_method': 'gradient_based', 'colsample_bytree': 0.22744046836346343, 'colsample_bylevel': 0.8136965329315902, 'colsample_bynode': 0.5079888754444708}. Best is trial 73 with value: 0.8509191814082554.\n"
     ]
    }
   ],
   "source": [
    "def find_hyperparam(trial):\n",
    "    eta = trial.suggest_loguniform('eta', 0.001, 1)\n",
    "    max_depth = trial.suggest_int('max_depth', 1, 50)\n",
    "    #min_child_weight = trial.suggest_int('min_child_weight', 0, 10)\n",
    "    subsample = trial.suggest_loguniform('subsample', 0.4, 1.0)\n",
    "    sampling_method = trial.suggest_categorical('sampling_method', ['uniform', 'gradient_based'])\n",
    "    colsample_bytree = trial.suggest_loguniform('colsample_bytree', 0.01, 1.0)\n",
    "    colsample_bylevel = trial.suggest_loguniform('colsample_bylevel', 0.01, 1.0)\n",
    "    colsample_bynode = trial.suggest_loguniform('colsample_bynode', 0.01, 1.0)\n",
    "\n",
    "    xgbc = xgb.XGBClassifier(objective = 'multi:softmax', \n",
    "                             eta = eta, \n",
    "                             max_depth = max_depth, \n",
    "                             #min_child_weight = min_child_weight, \n",
    "                             subsample = subsample, \n",
    "                             #sampling_method = sampling_method, \n",
    "                             colsample_bytree = colsample_bytree, \n",
    "                             colsample_bynode = colsample_bynode, \n",
    "                             colsample_bylevel = colsample_bylevel)\n",
    "    cv = KFold(n_splits = 5, shuffle = True, random_state = 20)\n",
    "    score = np.mean(cross_val_score(xgbc, X_train, y_train, \n",
    "                                    scoring = 'accuracy', cv = cv, \n",
    "                                    n_jobs = -1))\n",
    "    return (score)\n",
    "\n",
    "xgb_study = optuna.create_study(direction='maximize')\n",
    "xgb_study.optimize(find_hyperparam, timeout = 60*60)"
   ]
  },
  {
   "cell_type": "code",
   "execution_count": 41,
   "metadata": {},
   "outputs": [],
   "source": [
    "#Saving study\n",
    "mod = open('PKL/xgb_study.pkl', 'wb')\n",
    "pickle.dump(xgb_study, mod)\n",
    "mod.close()"
   ]
  },
  {
   "cell_type": "code",
   "execution_count": 23,
   "metadata": {},
   "outputs": [],
   "source": [
    "# Reload the study\n",
    "xgb_study = pickle.load(open('PKL/xgb_study.pkl', 'rb'))"
   ]
  },
  {
   "cell_type": "code",
   "execution_count": 24,
   "metadata": {
    "scrolled": true
   },
   "outputs": [
    {
     "data": {
      "text/plain": [
       "{'eta': 0.047015847004812955,\n",
       " 'max_depth': 36,\n",
       " 'subsample': 0.4778081513429783,\n",
       " 'sampling_method': 'gradient_based',\n",
       " 'colsample_bytree': 0.415717416280942,\n",
       " 'colsample_bylevel': 0.9884376260231053,\n",
       " 'colsample_bynode': 0.20250017161748426}"
      ]
     },
     "execution_count": 24,
     "metadata": {},
     "output_type": "execute_result"
    }
   ],
   "source": [
    "xgb_study.best_params"
   ]
  },
  {
   "cell_type": "code",
   "execution_count": 27,
   "metadata": {},
   "outputs": [],
   "source": [
    "best_ = xgb_study.best_params"
   ]
  },
  {
   "cell_type": "code",
   "execution_count": 28,
   "metadata": {},
   "outputs": [],
   "source": [
    "best_['sampling_method'] = 'uniform'"
   ]
  },
  {
   "cell_type": "code",
   "execution_count": 29,
   "metadata": {
    "scrolled": true
   },
   "outputs": [
    {
     "name": "stdout",
     "output_type": "stream",
     "text": [
      "Accuracy:  0.792 Test F1 score:  0.69 / Cohen Kappa:  0.624\n",
      "                         precision    recall  f1-score   support\n",
      "\n",
      "             functional       0.82      0.84      0.83      4822\n",
      "functional needs repair       0.43      0.44      0.43       678\n",
      "         non functional       0.83      0.79      0.81      3410\n",
      "\n",
      "               accuracy                           0.79      8910\n",
      "              macro avg       0.69      0.69      0.69      8910\n",
      "           weighted avg       0.79      0.79      0.79      8910\n",
      "\n"
     ]
    }
   ],
   "source": [
    "# fitting and testing on the test set\n",
    "\n",
    "xgbc = xgb.XGBClassifier(**best_, verbosity=1)\n",
    "\n",
    "xgbc.fit(X_train, y_train)\n",
    "y_pred = xgbc.predict(X_test)    \n",
    "scoring(y_test, y_pred, 'xgboost')\n",
    "print(classification_report(y_test, y_pred))\n",
    "\n",
    "# Accuracy:  0.792 Test F1 score:  0.69 / Cohen Kappa:  0.624\n",
    "# functional needs repair recall = 0.44"
   ]
  },
  {
   "cell_type": "markdown",
   "metadata": {},
   "source": [
    "Top majority classes are doing so much better, but the minority class recall score dropped significantly from random forest model. We'll try to oversampling the minority classes and try again."
   ]
  },
  {
   "cell_type": "code",
   "execution_count": 30,
   "metadata": {},
   "outputs": [],
   "source": [
    "# saving model\n",
    "mod = open('PKL/xgbc_model.pkl', 'wb')\n",
    "pickle.dump(xgbc, mod)\n",
    "mod.close()"
   ]
  },
  {
   "cell_type": "code",
   "execution_count": null,
   "metadata": {},
   "outputs": [],
   "source": [
    "#xgbc_model = pickle.load(open('PKL/xgbc_model.pkl', 'rb'))"
   ]
  },
  {
   "cell_type": "markdown",
   "metadata": {},
   "source": [
    "## Voting Classifier\n",
    "Now I will try to run a voting classifier using some of the above models. Since many of the models did better with with minority classes oversampled, I will use oversampled data for voting."
   ]
  },
  {
   "cell_type": "code",
   "execution_count": 34,
   "metadata": {},
   "outputs": [
    {
     "data": {
      "text/plain": [
       "VotingClassifier(estimators=[('knc_study',\n",
       "                              KNeighborsClassifier(algorithm='kd_tree',\n",
       "                                                   n_jobs=-1, n_neighbors=4,\n",
       "                                                   p=1, weights='distance')),\n",
       "                             ('rf_model',\n",
       "                              RandomForestClassifier(class_weight='balanced',\n",
       "                                                     max_features=135,\n",
       "                                                     max_leaf_nodes=200,\n",
       "                                                     min_samples_leaf=2,\n",
       "                                                     min_samples_split=5,\n",
       "                                                     min_weight_fraction_leaf=2.2193985313288622e-07,\n",
       "                                                     n_estimators=466,\n",
       "                                                     n_jobs=-1,\n",
       "                                                     oob_score...\n",
       "                                            max_delta_step=0, max_depth=36,\n",
       "                                            min_child_weight=1, missing=nan,\n",
       "                                            monotone_constraints='()',\n",
       "                                            n_estimators=100, n_jobs=0,\n",
       "                                            num_parallel_tree=1,\n",
       "                                            objective='multi:softprob',\n",
       "                                            random_state=0, reg_alpha=0,\n",
       "                                            reg_lambda=1,\n",
       "                                            sampling_method='uniform',\n",
       "                                            scale_pos_weight=None,\n",
       "                                            subsample=0.4778081513429783,\n",
       "                                            tree_method='exact',\n",
       "                                            validate_parameters=1,\n",
       "                                            verbosity=1))],\n",
       "                 n_jobs=-1, voting='soft')"
      ]
     },
     "execution_count": 34,
     "metadata": {},
     "output_type": "execute_result"
    }
   ],
   "source": [
    "from sklearn.ensemble import VotingClassifier\n",
    "\n",
    "voting_c_soft = VotingClassifier(estimators = [\n",
    "                                          ('knc_study', knc_study),\n",
    "                                          ('rf_model', rf_model),\n",
    "                                          ('xgbc', xgbc)\n",
    "                                         ], \n",
    "                            voting = 'soft', \n",
    "                           n_jobs = -1)\n",
    "voting_c_soft.fit(X_train, y_train)"
   ]
  },
  {
   "cell_type": "code",
   "execution_count": 35,
   "metadata": {},
   "outputs": [
    {
     "name": "stdout",
     "output_type": "stream",
     "text": [
      "Accuracy:  0.789 Test F1 score:  0.685 / Cohen Kappa:  0.619\n",
      "                         precision    recall  f1-score   support\n",
      "\n",
      "             functional       0.82      0.84      0.83      4822\n",
      "functional needs repair       0.42      0.42      0.42       678\n",
      "         non functional       0.82      0.79      0.80      3410\n",
      "\n",
      "               accuracy                           0.79      8910\n",
      "              macro avg       0.69      0.68      0.69      8910\n",
      "           weighted avg       0.79      0.79      0.79      8910\n",
      "\n"
     ]
    }
   ],
   "source": [
    "y_pred = voting_c_soft.predict(X_test)    \n",
    "scoring(y_test, y_pred, 'voting')\n",
    "print(classification_report(y_test, y_pred))\n",
    "\n",
    "#Accuracy:  0.789 Test F1 score:  0.685 / Cohen Kappa:  0.619\n",
    "# functional needs repair recall = 0.42"
   ]
  },
  {
   "cell_type": "code",
   "execution_count": null,
   "metadata": {},
   "outputs": [],
   "source": []
  },
  {
   "cell_type": "code",
   "execution_count": 36,
   "metadata": {},
   "outputs": [],
   "source": [
    "# save model\n",
    "mod = open('PKL/voting_c_soft.pkl', 'wb')\n",
    "pickle.dump(voting_c_soft, mod)\n",
    "mod.close()"
   ]
  },
  {
   "cell_type": "code",
   "execution_count": null,
   "metadata": {},
   "outputs": [],
   "source": [
    "# Reload the model\n",
    "#voting_c_soft = pickle.load(open('PKL/voting_c_soft.pkl', 'rb'))"
   ]
  },
  {
   "cell_type": "markdown",
   "metadata": {},
   "source": [
    "### Hard voting"
   ]
  },
  {
   "cell_type": "code",
   "execution_count": 37,
   "metadata": {},
   "outputs": [
    {
     "data": {
      "text/plain": [
       "VotingClassifier(estimators=[('knc_study',\n",
       "                              KNeighborsClassifier(algorithm='kd_tree',\n",
       "                                                   n_jobs=-1, n_neighbors=4,\n",
       "                                                   p=1, weights='distance')),\n",
       "                             ('rf_model',\n",
       "                              RandomForestClassifier(class_weight='balanced',\n",
       "                                                     max_features=135,\n",
       "                                                     max_leaf_nodes=200,\n",
       "                                                     min_samples_leaf=2,\n",
       "                                                     min_samples_split=5,\n",
       "                                                     min_weight_fraction_leaf=2.2193985313288622e-07,\n",
       "                                                     n_estimators=466,\n",
       "                                                     n_jobs=-1,\n",
       "                                                     oob_score...\n",
       "                                            learning_rate=0.0470158458,\n",
       "                                            max_delta_step=0, max_depth=36,\n",
       "                                            min_child_weight=1, missing=nan,\n",
       "                                            monotone_constraints='()',\n",
       "                                            n_estimators=100, n_jobs=0,\n",
       "                                            num_parallel_tree=1,\n",
       "                                            objective='multi:softprob',\n",
       "                                            random_state=0, reg_alpha=0,\n",
       "                                            reg_lambda=1,\n",
       "                                            sampling_method='uniform',\n",
       "                                            scale_pos_weight=None,\n",
       "                                            subsample=0.4778081513429783,\n",
       "                                            tree_method='exact',\n",
       "                                            validate_parameters=1,\n",
       "                                            verbosity=1))],\n",
       "                 n_jobs=-1)"
      ]
     },
     "execution_count": 37,
     "metadata": {},
     "output_type": "execute_result"
    }
   ],
   "source": [
    "voting_c_hard = VotingClassifier(estimators = [\n",
    "                                          ('knc_study', knc_study),\n",
    "                                          ('rf_model', rf_model),\n",
    "                                          ('xgbc', xgbc)\n",
    "                                         ], \n",
    "                            voting = 'hard', \n",
    "                           n_jobs = -1)\n",
    "voting_c_hard.fit(X_train, y_train)"
   ]
  },
  {
   "cell_type": "code",
   "execution_count": 38,
   "metadata": {},
   "outputs": [
    {
     "name": "stdout",
     "output_type": "stream",
     "text": [
      "Accuracy:  0.789 Test F1 score:  0.686 / Cohen Kappa:  0.617\n",
      "                         precision    recall  f1-score   support\n",
      "\n",
      "             functional       0.81      0.85      0.83      4822\n",
      "functional needs repair       0.42      0.42      0.42       678\n",
      "         non functional       0.84      0.77      0.80      3410\n",
      "\n",
      "               accuracy                           0.79      8910\n",
      "              macro avg       0.69      0.68      0.69      8910\n",
      "           weighted avg       0.79      0.79      0.79      8910\n",
      "\n"
     ]
    }
   ],
   "source": [
    "y_pred = voting_c_hard.predict(X_test)    \n",
    "scoring(y_test, y_pred, 'voting')\n",
    "print(classification_report(y_test, y_pred))\n",
    "\n",
    "# Test F1 score:  0.77 / Test Accuracy:  0.671\n",
    "# functional needs repair recall = 0.43"
   ]
  },
  {
   "cell_type": "code",
   "execution_count": 91,
   "metadata": {},
   "outputs": [],
   "source": [
    "# save model\n",
    "mod = open('PKL/voting_c_hard.pkl', 'wb')\n",
    "pickle.dump(voting_c_hard, mod)\n",
    "mod.close()"
   ]
  },
  {
   "cell_type": "code",
   "execution_count": null,
   "metadata": {},
   "outputs": [],
   "source": [
    "# Reload the model\n",
    "#voting_c_hard = pickle.load(open('PKL/voting_c_hard.pkl', 'rb'))"
   ]
  },
  {
   "cell_type": "code",
   "execution_count": 97,
   "metadata": {},
   "outputs": [],
   "source": [
    "from sklearn.linear_model import SGDClassifier"
   ]
  },
  {
   "cell_type": "code",
   "execution_count": 107,
   "metadata": {},
   "outputs": [
    {
     "name": "stdout",
     "output_type": "stream",
     "text": [
      "Accuracy:  0.721 Test F1 score:  0.609 / Cohen Kappa:  0.5\n"
     ]
    },
    {
     "data": {
      "text/plain": [
       "{'dummy': (0.33, 0.294, -0.006),\n",
       " 'knn optuna': (0.752, 0.641, 0.553),\n",
       " 'random forest optuna': (0.739, 0.64, 0.528),\n",
       " 'xgboost': (0.776, 0.679, 0.595),\n",
       " 'voting': (0.789, 0.688, 0.618),\n",
       " 'SGDC': (0.721, 0.609, 0.5)}"
      ]
     },
     "execution_count": 107,
     "metadata": {},
     "output_type": "execute_result"
    }
   ],
   "source": [
    "SGDC = SGDClassifier(loss = 'log', penalty='elasticnet', \n",
    "                     max_iter=1000, tol=1e-3)\n",
    "SGDC.fit(X_train, y_train)\n",
    "y_pred = SGDC.predict(X_test)\n",
    "scoring(y_test, y_pred, 'SGDC')\n"
   ]
  },
  {
   "cell_type": "code",
   "execution_count": 111,
   "metadata": {},
   "outputs": [],
   "source": [
    "feat_importance = pd.DataFrame(SGDC.coef_.T, columns = SGDC.classes_, index = new_feats)"
   ]
  },
  {
   "cell_type": "code",
   "execution_count": 118,
   "metadata": {},
   "outputs": [
    {
     "data": {
      "text/html": [
       "<div>\n",
       "<style scoped>\n",
       "    .dataframe tbody tr th:only-of-type {\n",
       "        vertical-align: middle;\n",
       "    }\n",
       "\n",
       "    .dataframe tbody tr th {\n",
       "        vertical-align: top;\n",
       "    }\n",
       "\n",
       "    .dataframe thead th {\n",
       "        text-align: right;\n",
       "    }\n",
       "</style>\n",
       "<table border=\"1\" class=\"dataframe\">\n",
       "  <thead>\n",
       "    <tr style=\"text-align: right;\">\n",
       "      <th></th>\n",
       "      <th>functional</th>\n",
       "      <th>functional needs repair</th>\n",
       "      <th>non functional</th>\n",
       "    </tr>\n",
       "  </thead>\n",
       "  <tbody>\n",
       "    <tr>\n",
       "      <th>zero_gps_height</th>\n",
       "      <td>-0.1149</td>\n",
       "      <td>0.7935</td>\n",
       "      <td>-0.5102</td>\n",
       "    </tr>\n",
       "    <tr>\n",
       "      <th>extraction_type_c_gravity</th>\n",
       "      <td>1.1832</td>\n",
       "      <td>0.7132</td>\n",
       "      <td>-0.5590</td>\n",
       "    </tr>\n",
       "    <tr>\n",
       "      <th>region_kigoma</th>\n",
       "      <td>-0.1515</td>\n",
       "      <td>0.4531</td>\n",
       "      <td>-0.1545</td>\n",
       "    </tr>\n",
       "    <tr>\n",
       "      <th>region_singida</th>\n",
       "      <td>0.2190</td>\n",
       "      <td>0.4333</td>\n",
       "      <td>-0.8397</td>\n",
       "    </tr>\n",
       "    <tr>\n",
       "      <th>gps_height</th>\n",
       "      <td>0.0000</td>\n",
       "      <td>0.4161</td>\n",
       "      <td>-0.2863</td>\n",
       "    </tr>\n",
       "    <tr>\n",
       "      <th>region_morogoro</th>\n",
       "      <td>0.4695</td>\n",
       "      <td>0.4074</td>\n",
       "      <td>-0.3351</td>\n",
       "    </tr>\n",
       "    <tr>\n",
       "      <th>district_code_1</th>\n",
       "      <td>0.3417</td>\n",
       "      <td>0.3743</td>\n",
       "      <td>-0.3276</td>\n",
       "    </tr>\n",
       "    <tr>\n",
       "      <th>lga_bukombe</th>\n",
       "      <td>-0.0472</td>\n",
       "      <td>0.3176</td>\n",
       "      <td>-0.1185</td>\n",
       "    </tr>\n",
       "    <tr>\n",
       "      <th>lga_bariadi</th>\n",
       "      <td>0.0000</td>\n",
       "      <td>0.2991</td>\n",
       "      <td>0.0000</td>\n",
       "    </tr>\n",
       "    <tr>\n",
       "      <th>extraction_type_c_submersible</th>\n",
       "      <td>0.6848</td>\n",
       "      <td>0.2924</td>\n",
       "      <td>-0.3025</td>\n",
       "    </tr>\n",
       "  </tbody>\n",
       "</table>\n",
       "</div>"
      ],
      "text/plain": [
       "                               functional  functional needs repair  \\\n",
       "zero_gps_height                   -0.1149                   0.7935   \n",
       "extraction_type_c_gravity          1.1832                   0.7132   \n",
       "region_kigoma                     -0.1515                   0.4531   \n",
       "region_singida                     0.2190                   0.4333   \n",
       "gps_height                         0.0000                   0.4161   \n",
       "region_morogoro                    0.4695                   0.4074   \n",
       "district_code_1                    0.3417                   0.3743   \n",
       "lga_bukombe                       -0.0472                   0.3176   \n",
       "lga_bariadi                        0.0000                   0.2991   \n",
       "extraction_type_c_submersible      0.6848                   0.2924   \n",
       "\n",
       "                               non functional  \n",
       "zero_gps_height                       -0.5102  \n",
       "extraction_type_c_gravity             -0.5590  \n",
       "region_kigoma                         -0.1545  \n",
       "region_singida                        -0.8397  \n",
       "gps_height                            -0.2863  \n",
       "region_morogoro                       -0.3351  \n",
       "district_code_1                       -0.3276  \n",
       "lga_bukombe                           -0.1185  \n",
       "lga_bariadi                            0.0000  \n",
       "extraction_type_c_submersible         -0.3025  "
      ]
     },
     "execution_count": 118,
     "metadata": {},
     "output_type": "execute_result"
    }
   ],
   "source": [
    "feat_importance.sort_values(by = 'functional needs repair', ascending = False).head(10)"
   ]
  },
  {
   "cell_type": "code",
   "execution_count": null,
   "metadata": {},
   "outputs": [],
   "source": []
  }
 ],
 "metadata": {
  "kernelspec": {
   "display_name": "Python 3",
   "language": "python",
   "name": "python3"
  },
  "language_info": {
   "codemirror_mode": {
    "name": "ipython",
    "version": 3
   },
   "file_extension": ".py",
   "mimetype": "text/x-python",
   "name": "python",
   "nbconvert_exporter": "python",
   "pygments_lexer": "ipython3",
   "version": "3.7.4"
  }
 },
 "nbformat": 4,
 "nbformat_minor": 4
}
